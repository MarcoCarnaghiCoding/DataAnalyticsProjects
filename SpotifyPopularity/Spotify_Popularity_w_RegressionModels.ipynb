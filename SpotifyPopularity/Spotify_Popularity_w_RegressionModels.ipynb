{
  "cells": [
    {
      "attachments": {},
      "cell_type": "markdown",
      "metadata": {
        "id": "ULYcxVdmGbqa"
      },
      "source": [
        "## Spotify Top Songs\n",
        "The dataset contains daily rankings of the 200 most played songs in 53 countries in 2017 and 2018 on Spotify. It contains over 2 million rows, comprising 6629 artists, 18598 songs for a total count of one hundred and five billion streams. The goal of this project is to understand what characteristics make a song popular. To that end, it is also provided with a file containing data on the music attributes (i.e., speech, acoustics, tempo) of several popular songs. Given the large size of the dataset, feel free to simplify your task by working with single country or single year rankings."
      ]
    },
    {
      "cell_type": "markdown",
      "metadata": {
        "id": "YRS3N_GcYtTP"
      },
      "source": [
        "## Data manipulation\n",
        "\n",
        "Lets start by downloading the data\n"
      ]
    },
    {
      "cell_type": "code",
      "execution_count": null,
      "metadata": {
        "colab": {
          "base_uri": "https://localhost:8080/",
          "height": 206
        },
        "id": "nE18cetCGl_B",
        "outputId": "b5a6acaa-eed0-4022-9d50-2e094cd86db5"
      },
      "outputs": [
        {
          "data": {
            "text/html": [
              "<div>\n",
              "<style scoped>\n",
              "    .dataframe tbody tr th:only-of-type {\n",
              "        vertical-align: middle;\n",
              "    }\n",
              "\n",
              "    .dataframe tbody tr th {\n",
              "        vertical-align: top;\n",
              "    }\n",
              "\n",
              "    .dataframe thead th {\n",
              "        text-align: right;\n",
              "    }\n",
              "</style>\n",
              "<table border=\"1\" class=\"dataframe\">\n",
              "  <thead>\n",
              "    <tr style=\"text-align: right;\">\n",
              "      <th></th>\n",
              "      <th>Position</th>\n",
              "      <th>Track Name</th>\n",
              "      <th>Artist</th>\n",
              "      <th>Streams</th>\n",
              "      <th>URL</th>\n",
              "      <th>Date</th>\n",
              "      <th>Region</th>\n",
              "    </tr>\n",
              "  </thead>\n",
              "  <tbody>\n",
              "    <tr>\n",
              "      <th>0</th>\n",
              "      <td>1</td>\n",
              "      <td>Reggaetón Lento (Bailemos)</td>\n",
              "      <td>CNCO</td>\n",
              "      <td>19272</td>\n",
              "      <td>https://open.spotify.com/track/3AEZUABDXNtecAO...</td>\n",
              "      <td>2017-01-01</td>\n",
              "      <td>ec</td>\n",
              "    </tr>\n",
              "    <tr>\n",
              "      <th>1</th>\n",
              "      <td>2</td>\n",
              "      <td>Chantaje</td>\n",
              "      <td>Shakira</td>\n",
              "      <td>19270</td>\n",
              "      <td>https://open.spotify.com/track/6mICuAdrwEjh6Y6...</td>\n",
              "      <td>2017-01-01</td>\n",
              "      <td>ec</td>\n",
              "    </tr>\n",
              "    <tr>\n",
              "      <th>2</th>\n",
              "      <td>3</td>\n",
              "      <td>Otra Vez (feat. J Balvin)</td>\n",
              "      <td>Zion &amp; Lennox</td>\n",
              "      <td>15761</td>\n",
              "      <td>https://open.spotify.com/track/3QwBODjSEzelZyV...</td>\n",
              "      <td>2017-01-01</td>\n",
              "      <td>ec</td>\n",
              "    </tr>\n",
              "    <tr>\n",
              "      <th>3</th>\n",
              "      <td>4</td>\n",
              "      <td>Vente Pa' Ca</td>\n",
              "      <td>Ricky Martin</td>\n",
              "      <td>14954</td>\n",
              "      <td>https://open.spotify.com/track/7DM4BPaS7uofFul...</td>\n",
              "      <td>2017-01-01</td>\n",
              "      <td>ec</td>\n",
              "    </tr>\n",
              "    <tr>\n",
              "      <th>4</th>\n",
              "      <td>5</td>\n",
              "      <td>Safari</td>\n",
              "      <td>J Balvin</td>\n",
              "      <td>14269</td>\n",
              "      <td>https://open.spotify.com/track/6rQSrBHf7HlZjtc...</td>\n",
              "      <td>2017-01-01</td>\n",
              "      <td>ec</td>\n",
              "    </tr>\n",
              "  </tbody>\n",
              "</table>\n",
              "</div>"
            ],
            "text/plain": [
              "   Position                  Track Name  ...        Date  Region\n",
              "0         1  Reggaetón Lento (Bailemos)  ...  2017-01-01      ec\n",
              "1         2                    Chantaje  ...  2017-01-01      ec\n",
              "2         3   Otra Vez (feat. J Balvin)  ...  2017-01-01      ec\n",
              "3         4                Vente Pa' Ca  ...  2017-01-01      ec\n",
              "4         5                      Safari  ...  2017-01-01      ec\n",
              "\n",
              "[5 rows x 7 columns]"
            ]
          },
          "execution_count": 1,
          "metadata": {},
          "output_type": "execute_result"
        }
      ],
      "source": [
        "import pandas as pd\n",
        "ranking_spotify_1 = pd.read_csv(\"https://raw.githubusercontent.com/emmanueliarussi/DataScienceCapstone/master/3_MidtermProjects/ProjectTSS/data/ranking_spotify_1.csv\")\n",
        "ranking_spotify_1.head()"
      ]
    },
    {
      "cell_type": "code",
      "execution_count": null,
      "metadata": {
        "colab": {
          "base_uri": "https://localhost:8080/",
          "height": 206
        },
        "id": "1gB6MlXRHC1d",
        "outputId": "25701e2d-c3ad-4945-e74c-f60587b6b88b"
      },
      "outputs": [
        {
          "data": {
            "text/html": [
              "<div>\n",
              "<style scoped>\n",
              "    .dataframe tbody tr th:only-of-type {\n",
              "        vertical-align: middle;\n",
              "    }\n",
              "\n",
              "    .dataframe tbody tr th {\n",
              "        vertical-align: top;\n",
              "    }\n",
              "\n",
              "    .dataframe thead th {\n",
              "        text-align: right;\n",
              "    }\n",
              "</style>\n",
              "<table border=\"1\" class=\"dataframe\">\n",
              "  <thead>\n",
              "    <tr style=\"text-align: right;\">\n",
              "      <th></th>\n",
              "      <th>Position</th>\n",
              "      <th>Track Name</th>\n",
              "      <th>Artist</th>\n",
              "      <th>Streams</th>\n",
              "      <th>URL</th>\n",
              "      <th>Date</th>\n",
              "      <th>Region</th>\n",
              "    </tr>\n",
              "  </thead>\n",
              "  <tbody>\n",
              "    <tr>\n",
              "      <th>0</th>\n",
              "      <td>54</td>\n",
              "      <td>Thunder</td>\n",
              "      <td>Imagine Dragons</td>\n",
              "      <td>5404</td>\n",
              "      <td>https://open.spotify.com/track/0tKcYR2II1VCQWT...</td>\n",
              "      <td>2017-08-24</td>\n",
              "      <td>cr</td>\n",
              "    </tr>\n",
              "    <tr>\n",
              "      <th>1</th>\n",
              "      <td>55</td>\n",
              "      <td>Soy Peor Remix (feat. J Balvin, Ozuna &amp; Arcangel)</td>\n",
              "      <td>Bad Bunny</td>\n",
              "      <td>5339</td>\n",
              "      <td>https://open.spotify.com/track/4UG962ViiLqoUyx...</td>\n",
              "      <td>2017-08-24</td>\n",
              "      <td>cr</td>\n",
              "    </tr>\n",
              "    <tr>\n",
              "      <th>2</th>\n",
              "      <td>56</td>\n",
              "      <td>Photograph</td>\n",
              "      <td>Ed Sheeran</td>\n",
              "      <td>5278</td>\n",
              "      <td>https://open.spotify.com/track/6fxVffaTuwjgEk5...</td>\n",
              "      <td>2017-08-24</td>\n",
              "      <td>cr</td>\n",
              "    </tr>\n",
              "    <tr>\n",
              "      <th>3</th>\n",
              "      <td>57</td>\n",
              "      <td>Thinking Out Loud</td>\n",
              "      <td>Ed Sheeran</td>\n",
              "      <td>5055</td>\n",
              "      <td>https://open.spotify.com/track/1Slwb6dOYkBlWal...</td>\n",
              "      <td>2017-08-24</td>\n",
              "      <td>cr</td>\n",
              "    </tr>\n",
              "    <tr>\n",
              "      <th>4</th>\n",
              "      <td>58</td>\n",
              "      <td>Imitadora</td>\n",
              "      <td>Romeo Santos</td>\n",
              "      <td>4976</td>\n",
              "      <td>https://open.spotify.com/track/6r46lnXFbE9fr2d...</td>\n",
              "      <td>2017-08-24</td>\n",
              "      <td>cr</td>\n",
              "    </tr>\n",
              "  </tbody>\n",
              "</table>\n",
              "</div>"
            ],
            "text/plain": [
              "   Position  ... Region\n",
              "0        54  ...     cr\n",
              "1        55  ...     cr\n",
              "2        56  ...     cr\n",
              "3        57  ...     cr\n",
              "4        58  ...     cr\n",
              "\n",
              "[5 rows x 7 columns]"
            ]
          },
          "execution_count": 2,
          "metadata": {},
          "output_type": "execute_result"
        }
      ],
      "source": [
        "ranking_spotify_2 = pd.read_csv(\"https://raw.githubusercontent.com/emmanueliarussi/DataScienceCapstone/master/3_MidtermProjects/ProjectTSS/data/ranking_spotify_2.csv\")\n",
        "ranking_spotify_2.head()"
      ]
    },
    {
      "cell_type": "code",
      "execution_count": null,
      "metadata": {
        "colab": {
          "base_uri": "https://localhost:8080/",
          "height": 206
        },
        "id": "oWzZ9wPSN_Cw",
        "outputId": "bcc587fb-aa98-4704-a95e-911ec13b958f"
      },
      "outputs": [
        {
          "data": {
            "text/html": [
              "<div>\n",
              "<style scoped>\n",
              "    .dataframe tbody tr th:only-of-type {\n",
              "        vertical-align: middle;\n",
              "    }\n",
              "\n",
              "    .dataframe tbody tr th {\n",
              "        vertical-align: top;\n",
              "    }\n",
              "\n",
              "    .dataframe thead th {\n",
              "        text-align: right;\n",
              "    }\n",
              "</style>\n",
              "<table border=\"1\" class=\"dataframe\">\n",
              "  <thead>\n",
              "    <tr style=\"text-align: right;\">\n",
              "      <th></th>\n",
              "      <th>Position</th>\n",
              "      <th>Track Name</th>\n",
              "      <th>Artist</th>\n",
              "      <th>Streams</th>\n",
              "      <th>URL</th>\n",
              "      <th>Date</th>\n",
              "      <th>Region</th>\n",
              "    </tr>\n",
              "  </thead>\n",
              "  <tbody>\n",
              "    <tr>\n",
              "      <th>0</th>\n",
              "      <td>193</td>\n",
              "      <td>I'm the One</td>\n",
              "      <td>DJ Khaled</td>\n",
              "      <td>8316</td>\n",
              "      <td>https://open.spotify.com/track/3DXncPQOG4VBw3Q...</td>\n",
              "      <td>2017-11-21</td>\n",
              "      <td>dk</td>\n",
              "    </tr>\n",
              "    <tr>\n",
              "      <th>1</th>\n",
              "      <td>194</td>\n",
              "      <td>God Dag</td>\n",
              "      <td>KESI</td>\n",
              "      <td>8298</td>\n",
              "      <td>https://open.spotify.com/track/4Jg4Qp4byYVpJ5m...</td>\n",
              "      <td>2017-11-21</td>\n",
              "      <td>dk</td>\n",
              "    </tr>\n",
              "    <tr>\n",
              "      <th>2</th>\n",
              "      <td>195</td>\n",
              "      <td>Castle on the Hill</td>\n",
              "      <td>Ed Sheeran</td>\n",
              "      <td>8293</td>\n",
              "      <td>https://open.spotify.com/track/6PCUP3dWmTjcTtX...</td>\n",
              "      <td>2017-11-21</td>\n",
              "      <td>dk</td>\n",
              "    </tr>\n",
              "    <tr>\n",
              "      <th>3</th>\n",
              "      <td>196</td>\n",
              "      <td>September Song</td>\n",
              "      <td>JP Cooper</td>\n",
              "      <td>8278</td>\n",
              "      <td>https://open.spotify.com/track/2Inz7gGPGgieN0C...</td>\n",
              "      <td>2017-11-21</td>\n",
              "      <td>dk</td>\n",
              "    </tr>\n",
              "    <tr>\n",
              "      <th>4</th>\n",
              "      <td>197</td>\n",
              "      <td>Mi Gente (feat. Beyoncé)</td>\n",
              "      <td>J Balvin</td>\n",
              "      <td>8261</td>\n",
              "      <td>https://open.spotify.com/track/7fwXWKdDNI5IutO...</td>\n",
              "      <td>2017-11-21</td>\n",
              "      <td>dk</td>\n",
              "    </tr>\n",
              "  </tbody>\n",
              "</table>\n",
              "</div>"
            ],
            "text/plain": [
              "   Position                Track Name  ...        Date  Region\n",
              "0       193               I'm the One  ...  2017-11-21      dk\n",
              "1       194                   God Dag  ...  2017-11-21      dk\n",
              "2       195        Castle on the Hill  ...  2017-11-21      dk\n",
              "3       196            September Song  ...  2017-11-21      dk\n",
              "4       197  Mi Gente (feat. Beyoncé)  ...  2017-11-21      dk\n",
              "\n",
              "[5 rows x 7 columns]"
            ]
          },
          "execution_count": 3,
          "metadata": {},
          "output_type": "execute_result"
        }
      ],
      "source": [
        "ranking_spotify_3 = pd.read_csv(\"https://raw.githubusercontent.com/emmanueliarussi/DataScienceCapstone/master/3_MidtermProjects/ProjectTSS/data/ranking_spotify_3.csv\")\n",
        "ranking_spotify_3.head()"
      ]
    },
    {
      "cell_type": "code",
      "execution_count": null,
      "metadata": {
        "colab": {
          "base_uri": "https://localhost:8080/",
          "height": 206
        },
        "id": "mfJwBdBrODmP",
        "outputId": "ba010f56-4f12-4c39-e26c-b9dfe2700699"
      },
      "outputs": [
        {
          "data": {
            "text/html": [
              "<div>\n",
              "<style scoped>\n",
              "    .dataframe tbody tr th:only-of-type {\n",
              "        vertical-align: middle;\n",
              "    }\n",
              "\n",
              "    .dataframe tbody tr th {\n",
              "        vertical-align: top;\n",
              "    }\n",
              "\n",
              "    .dataframe thead th {\n",
              "        text-align: right;\n",
              "    }\n",
              "</style>\n",
              "<table border=\"1\" class=\"dataframe\">\n",
              "  <thead>\n",
              "    <tr style=\"text-align: right;\">\n",
              "      <th></th>\n",
              "      <th>Position</th>\n",
              "      <th>Track Name</th>\n",
              "      <th>Artist</th>\n",
              "      <th>Streams</th>\n",
              "      <th>URL</th>\n",
              "      <th>Date</th>\n",
              "      <th>Region</th>\n",
              "    </tr>\n",
              "  </thead>\n",
              "  <tbody>\n",
              "    <tr>\n",
              "      <th>0</th>\n",
              "      <td>69</td>\n",
              "      <td>There for You</td>\n",
              "      <td>Martin Garrix</td>\n",
              "      <td>8323</td>\n",
              "      <td>https://open.spotify.com/track/6jA8HL9i4QGzsj6...</td>\n",
              "      <td>2017-06-24</td>\n",
              "      <td>co</td>\n",
              "    </tr>\n",
              "    <tr>\n",
              "      <th>1</th>\n",
              "      <td>70</td>\n",
              "      <td>Por Fin Te Encontré</td>\n",
              "      <td>Cali Y El Dandee</td>\n",
              "      <td>8312</td>\n",
              "      <td>https://open.spotify.com/track/3GpvoKKWZyTwgbL...</td>\n",
              "      <td>2017-06-24</td>\n",
              "      <td>co</td>\n",
              "    </tr>\n",
              "    <tr>\n",
              "      <th>2</th>\n",
              "      <td>71</td>\n",
              "      <td>One Dance</td>\n",
              "      <td>Drake</td>\n",
              "      <td>8306</td>\n",
              "      <td>https://open.spotify.com/track/1xznGGDReH1oQq0...</td>\n",
              "      <td>2017-06-24</td>\n",
              "      <td>co</td>\n",
              "    </tr>\n",
              "    <tr>\n",
              "      <th>3</th>\n",
              "      <td>72</td>\n",
              "      <td>Sé Que Te Duele</td>\n",
              "      <td>Alejandro Fernandez</td>\n",
              "      <td>8221</td>\n",
              "      <td>https://open.spotify.com/track/5vZfgeDfNhlkKeJ...</td>\n",
              "      <td>2017-06-24</td>\n",
              "      <td>co</td>\n",
              "    </tr>\n",
              "    <tr>\n",
              "      <th>4</th>\n",
              "      <td>73</td>\n",
              "      <td>Bad Liar</td>\n",
              "      <td>Selena Gomez</td>\n",
              "      <td>8188</td>\n",
              "      <td>https://open.spotify.com/track/1sCxVKWImDZSZKv...</td>\n",
              "      <td>2017-06-24</td>\n",
              "      <td>co</td>\n",
              "    </tr>\n",
              "  </tbody>\n",
              "</table>\n",
              "</div>"
            ],
            "text/plain": [
              "   Position           Track Name  ...        Date  Region\n",
              "0        69        There for You  ...  2017-06-24      co\n",
              "1        70  Por Fin Te Encontré  ...  2017-06-24      co\n",
              "2        71            One Dance  ...  2017-06-24      co\n",
              "3        72      Sé Que Te Duele  ...  2017-06-24      co\n",
              "4        73             Bad Liar  ...  2017-06-24      co\n",
              "\n",
              "[5 rows x 7 columns]"
            ]
          },
          "execution_count": 4,
          "metadata": {},
          "output_type": "execute_result"
        }
      ],
      "source": [
        "ranking_spotify_4 = pd.read_csv(\"https://raw.githubusercontent.com/emmanueliarussi/DataScienceCapstone/master/3_MidtermProjects/ProjectTSS/data/ranking_spotify_4.csv\")\n",
        "ranking_spotify_4.head()"
      ]
    },
    {
      "cell_type": "code",
      "execution_count": null,
      "metadata": {
        "id": "Gc-fMHRFOFUe"
      },
      "outputs": [],
      "source": [
        "#Combining all in one dataframe\n",
        "ranking_spotify = pd.concat([ranking_spotify_1, ranking_spotify_2, ranking_spotify_3, ranking_spotify_4])"
      ]
    },
    {
      "cell_type": "code",
      "execution_count": null,
      "metadata": {
        "colab": {
          "base_uri": "https://localhost:8080/",
          "height": 365
        },
        "id": "XBSmm-ulGplF",
        "outputId": "0c1b6c14-88db-4acf-80b5-13eb4af9c70d"
      },
      "outputs": [
        {
          "data": {
            "text/html": [
              "<div>\n",
              "<style scoped>\n",
              "    .dataframe tbody tr th:only-of-type {\n",
              "        vertical-align: middle;\n",
              "    }\n",
              "\n",
              "    .dataframe tbody tr th {\n",
              "        vertical-align: top;\n",
              "    }\n",
              "\n",
              "    .dataframe thead th {\n",
              "        text-align: right;\n",
              "    }\n",
              "</style>\n",
              "<table border=\"1\" class=\"dataframe\">\n",
              "  <thead>\n",
              "    <tr style=\"text-align: right;\">\n",
              "      <th></th>\n",
              "      <th>id</th>\n",
              "      <th>name</th>\n",
              "      <th>artists</th>\n",
              "      <th>danceability</th>\n",
              "      <th>energy</th>\n",
              "      <th>key</th>\n",
              "      <th>loudness</th>\n",
              "      <th>mode</th>\n",
              "      <th>speechiness</th>\n",
              "      <th>acousticness</th>\n",
              "      <th>instrumentalness</th>\n",
              "      <th>liveness</th>\n",
              "      <th>valence</th>\n",
              "      <th>tempo</th>\n",
              "      <th>duration_ms</th>\n",
              "      <th>time_signature</th>\n",
              "    </tr>\n",
              "  </thead>\n",
              "  <tbody>\n",
              "    <tr>\n",
              "      <th>0</th>\n",
              "      <td>7qiZfU4dY1lWllzX7mPBI</td>\n",
              "      <td>Shape of You</td>\n",
              "      <td>Ed Sheeran</td>\n",
              "      <td>0.825</td>\n",
              "      <td>0.652</td>\n",
              "      <td>1.0</td>\n",
              "      <td>-3.183</td>\n",
              "      <td>0.0</td>\n",
              "      <td>0.0802</td>\n",
              "      <td>0.5810</td>\n",
              "      <td>0.000000</td>\n",
              "      <td>0.0931</td>\n",
              "      <td>0.931</td>\n",
              "      <td>95.977</td>\n",
              "      <td>233713.0</td>\n",
              "      <td>4.0</td>\n",
              "    </tr>\n",
              "    <tr>\n",
              "      <th>1</th>\n",
              "      <td>5CtI0qwDJkDQGwXD1H1cL</td>\n",
              "      <td>Despacito - Remix</td>\n",
              "      <td>Luis Fonsi</td>\n",
              "      <td>0.694</td>\n",
              "      <td>0.815</td>\n",
              "      <td>2.0</td>\n",
              "      <td>-4.328</td>\n",
              "      <td>1.0</td>\n",
              "      <td>0.1200</td>\n",
              "      <td>0.2290</td>\n",
              "      <td>0.000000</td>\n",
              "      <td>0.0924</td>\n",
              "      <td>0.813</td>\n",
              "      <td>88.931</td>\n",
              "      <td>228827.0</td>\n",
              "      <td>4.0</td>\n",
              "    </tr>\n",
              "    <tr>\n",
              "      <th>2</th>\n",
              "      <td>4aWmUDTfIPGksMNLV2rQP</td>\n",
              "      <td>Despacito (Featuring Daddy Yankee)</td>\n",
              "      <td>Luis Fonsi</td>\n",
              "      <td>0.660</td>\n",
              "      <td>0.786</td>\n",
              "      <td>2.0</td>\n",
              "      <td>-4.757</td>\n",
              "      <td>1.0</td>\n",
              "      <td>0.1700</td>\n",
              "      <td>0.2090</td>\n",
              "      <td>0.000000</td>\n",
              "      <td>0.1120</td>\n",
              "      <td>0.846</td>\n",
              "      <td>177.833</td>\n",
              "      <td>228200.0</td>\n",
              "      <td>4.0</td>\n",
              "    </tr>\n",
              "    <tr>\n",
              "      <th>3</th>\n",
              "      <td>6RUKPb4LETWmmr3iAEQkt</td>\n",
              "      <td>Something Just Like This</td>\n",
              "      <td>The Chainsmokers</td>\n",
              "      <td>0.617</td>\n",
              "      <td>0.635</td>\n",
              "      <td>11.0</td>\n",
              "      <td>-6.769</td>\n",
              "      <td>0.0</td>\n",
              "      <td>0.0317</td>\n",
              "      <td>0.0498</td>\n",
              "      <td>0.000014</td>\n",
              "      <td>0.1640</td>\n",
              "      <td>0.446</td>\n",
              "      <td>103.019</td>\n",
              "      <td>247160.0</td>\n",
              "      <td>4.0</td>\n",
              "    </tr>\n",
              "    <tr>\n",
              "      <th>4</th>\n",
              "      <td>3DXncPQOG4VBw3QHh3S81</td>\n",
              "      <td>I'm the One</td>\n",
              "      <td>DJ Khaled</td>\n",
              "      <td>0.609</td>\n",
              "      <td>0.668</td>\n",
              "      <td>7.0</td>\n",
              "      <td>-4.284</td>\n",
              "      <td>1.0</td>\n",
              "      <td>0.0367</td>\n",
              "      <td>0.0552</td>\n",
              "      <td>0.000000</td>\n",
              "      <td>0.1670</td>\n",
              "      <td>0.811</td>\n",
              "      <td>80.924</td>\n",
              "      <td>288600.0</td>\n",
              "      <td>4.0</td>\n",
              "    </tr>\n",
              "  </tbody>\n",
              "</table>\n",
              "</div>"
            ],
            "text/plain": [
              "                      id  ... time_signature\n",
              "0  7qiZfU4dY1lWllzX7mPBI  ...            4.0\n",
              "1  5CtI0qwDJkDQGwXD1H1cL  ...            4.0\n",
              "2  4aWmUDTfIPGksMNLV2rQP  ...            4.0\n",
              "3  6RUKPb4LETWmmr3iAEQkt  ...            4.0\n",
              "4  3DXncPQOG4VBw3QHh3S81  ...            4.0\n",
              "\n",
              "[5 rows x 16 columns]"
            ]
          },
          "execution_count": 7,
          "metadata": {},
          "output_type": "execute_result"
        }
      ],
      "source": [
        "features = pd.read_csv(\"https://raw.githubusercontent.com/emmanueliarussi/DataScienceCapstone/master/3_MidtermProjects/ProjectTSS/data/featuresdf.csv\")\n",
        "features.head()"
      ]
    },
    {
      "cell_type": "code",
      "execution_count": null,
      "metadata": {
        "colab": {
          "base_uri": "https://localhost:8080/",
          "height": 382
        },
        "id": "LRn_wB25GweX",
        "outputId": "810d0099-5841-4b0b-f6db-b26e5ba5aaf1"
      },
      "outputs": [
        {
          "data": {
            "text/html": [
              "<div>\n",
              "<style scoped>\n",
              "    .dataframe tbody tr th:only-of-type {\n",
              "        vertical-align: middle;\n",
              "    }\n",
              "\n",
              "    .dataframe tbody tr th {\n",
              "        vertical-align: top;\n",
              "    }\n",
              "\n",
              "    .dataframe thead th {\n",
              "        text-align: right;\n",
              "    }\n",
              "</style>\n",
              "<table border=\"1\" class=\"dataframe\">\n",
              "  <thead>\n",
              "    <tr style=\"text-align: right;\">\n",
              "      <th></th>\n",
              "      <th>id</th>\n",
              "      <th>Track Name</th>\n",
              "      <th>Artist</th>\n",
              "      <th>danceability</th>\n",
              "      <th>energy</th>\n",
              "      <th>key</th>\n",
              "      <th>loudness</th>\n",
              "      <th>mode</th>\n",
              "      <th>speechiness</th>\n",
              "      <th>acousticness</th>\n",
              "      <th>instrumentalness</th>\n",
              "      <th>liveness</th>\n",
              "      <th>valence</th>\n",
              "      <th>tempo</th>\n",
              "      <th>duration_ms</th>\n",
              "      <th>time_signature</th>\n",
              "    </tr>\n",
              "  </thead>\n",
              "  <tbody>\n",
              "    <tr>\n",
              "      <th>0</th>\n",
              "      <td>7qiZfU4dY1lWllzX7mPBI</td>\n",
              "      <td>Shape of You</td>\n",
              "      <td>Ed Sheeran</td>\n",
              "      <td>0.825</td>\n",
              "      <td>0.652</td>\n",
              "      <td>1.0</td>\n",
              "      <td>-3.183</td>\n",
              "      <td>0.0</td>\n",
              "      <td>0.0802</td>\n",
              "      <td>0.5810</td>\n",
              "      <td>0.000000</td>\n",
              "      <td>0.0931</td>\n",
              "      <td>0.931</td>\n",
              "      <td>95.977</td>\n",
              "      <td>233713.0</td>\n",
              "      <td>4.0</td>\n",
              "    </tr>\n",
              "    <tr>\n",
              "      <th>1</th>\n",
              "      <td>5CtI0qwDJkDQGwXD1H1cL</td>\n",
              "      <td>Despacito - Remix</td>\n",
              "      <td>Luis Fonsi</td>\n",
              "      <td>0.694</td>\n",
              "      <td>0.815</td>\n",
              "      <td>2.0</td>\n",
              "      <td>-4.328</td>\n",
              "      <td>1.0</td>\n",
              "      <td>0.1200</td>\n",
              "      <td>0.2290</td>\n",
              "      <td>0.000000</td>\n",
              "      <td>0.0924</td>\n",
              "      <td>0.813</td>\n",
              "      <td>88.931</td>\n",
              "      <td>228827.0</td>\n",
              "      <td>4.0</td>\n",
              "    </tr>\n",
              "    <tr>\n",
              "      <th>2</th>\n",
              "      <td>4aWmUDTfIPGksMNLV2rQP</td>\n",
              "      <td>Despacito (Featuring Daddy Yankee)</td>\n",
              "      <td>Luis Fonsi</td>\n",
              "      <td>0.660</td>\n",
              "      <td>0.786</td>\n",
              "      <td>2.0</td>\n",
              "      <td>-4.757</td>\n",
              "      <td>1.0</td>\n",
              "      <td>0.1700</td>\n",
              "      <td>0.2090</td>\n",
              "      <td>0.000000</td>\n",
              "      <td>0.1120</td>\n",
              "      <td>0.846</td>\n",
              "      <td>177.833</td>\n",
              "      <td>228200.0</td>\n",
              "      <td>4.0</td>\n",
              "    </tr>\n",
              "    <tr>\n",
              "      <th>3</th>\n",
              "      <td>6RUKPb4LETWmmr3iAEQkt</td>\n",
              "      <td>Something Just Like This</td>\n",
              "      <td>The Chainsmokers</td>\n",
              "      <td>0.617</td>\n",
              "      <td>0.635</td>\n",
              "      <td>11.0</td>\n",
              "      <td>-6.769</td>\n",
              "      <td>0.0</td>\n",
              "      <td>0.0317</td>\n",
              "      <td>0.0498</td>\n",
              "      <td>0.000014</td>\n",
              "      <td>0.1640</td>\n",
              "      <td>0.446</td>\n",
              "      <td>103.019</td>\n",
              "      <td>247160.0</td>\n",
              "      <td>4.0</td>\n",
              "    </tr>\n",
              "    <tr>\n",
              "      <th>4</th>\n",
              "      <td>3DXncPQOG4VBw3QHh3S81</td>\n",
              "      <td>I'm the One</td>\n",
              "      <td>DJ Khaled</td>\n",
              "      <td>0.609</td>\n",
              "      <td>0.668</td>\n",
              "      <td>7.0</td>\n",
              "      <td>-4.284</td>\n",
              "      <td>1.0</td>\n",
              "      <td>0.0367</td>\n",
              "      <td>0.0552</td>\n",
              "      <td>0.000000</td>\n",
              "      <td>0.1670</td>\n",
              "      <td>0.811</td>\n",
              "      <td>80.924</td>\n",
              "      <td>288600.0</td>\n",
              "      <td>4.0</td>\n",
              "    </tr>\n",
              "  </tbody>\n",
              "</table>\n",
              "</div>"
            ],
            "text/plain": [
              "                      id  ... time_signature\n",
              "0  7qiZfU4dY1lWllzX7mPBI  ...            4.0\n",
              "1  5CtI0qwDJkDQGwXD1H1cL  ...            4.0\n",
              "2  4aWmUDTfIPGksMNLV2rQP  ...            4.0\n",
              "3  6RUKPb4LETWmmr3iAEQkt  ...            4.0\n",
              "4  3DXncPQOG4VBw3QHh3S81  ...            4.0\n",
              "\n",
              "[5 rows x 16 columns]"
            ]
          },
          "execution_count": 8,
          "metadata": {},
          "output_type": "execute_result"
        }
      ],
      "source": [
        "#Raname columns in order to do an inner product\n",
        "#features.rename(columns = ['id',\t'Track Name',\t'artists',\t'danceability',\t'energy',\t'key',\t'loudness',\t'mode',\t'speechiness',\t'acousticness',\t'instrumentalness',\t'liveness',\t'valence',\t'tempo',\t'duration_ms',\t'time_signature'], inplace = True)\n",
        "features.rename(columns = {'name': 'Track Name', 'artists': 'Artist'}, inplace = True)\n",
        "features.head()\n"
      ]
    },
    {
      "cell_type": "code",
      "execution_count": null,
      "metadata": {
        "id": "WXqcMg98IWdV"
      },
      "outputs": [],
      "source": [
        "\n",
        "merged_df = ranking_spotify.merge(features, how = 'inner', on = ['Track Name','Artist'])"
      ]
    },
    {
      "cell_type": "code",
      "execution_count": null,
      "metadata": {
        "colab": {
          "base_uri": "https://localhost:8080/",
          "height": 417
        },
        "id": "VA-PjnAOJblW",
        "outputId": "5aa514a9-5a96-4456-d40d-f45a5913562c"
      },
      "outputs": [
        {
          "data": {
            "text/html": [
              "<div>\n",
              "<style scoped>\n",
              "    .dataframe tbody tr th:only-of-type {\n",
              "        vertical-align: middle;\n",
              "    }\n",
              "\n",
              "    .dataframe tbody tr th {\n",
              "        vertical-align: top;\n",
              "    }\n",
              "\n",
              "    .dataframe thead th {\n",
              "        text-align: right;\n",
              "    }\n",
              "</style>\n",
              "<table border=\"1\" class=\"dataframe\">\n",
              "  <thead>\n",
              "    <tr style=\"text-align: right;\">\n",
              "      <th></th>\n",
              "      <th>Position</th>\n",
              "      <th>Track Name</th>\n",
              "      <th>Artist</th>\n",
              "      <th>Streams</th>\n",
              "      <th>URL</th>\n",
              "      <th>Date</th>\n",
              "      <th>Region</th>\n",
              "      <th>id</th>\n",
              "      <th>danceability</th>\n",
              "      <th>energy</th>\n",
              "      <th>key</th>\n",
              "      <th>loudness</th>\n",
              "      <th>mode</th>\n",
              "      <th>speechiness</th>\n",
              "      <th>acousticness</th>\n",
              "      <th>instrumentalness</th>\n",
              "      <th>liveness</th>\n",
              "      <th>valence</th>\n",
              "      <th>tempo</th>\n",
              "      <th>duration_ms</th>\n",
              "      <th>time_signature</th>\n",
              "    </tr>\n",
              "  </thead>\n",
              "  <tbody>\n",
              "    <tr>\n",
              "      <th>0</th>\n",
              "      <td>1</td>\n",
              "      <td>Reggaetón Lento (Bailemos)</td>\n",
              "      <td>CNCO</td>\n",
              "      <td>19272</td>\n",
              "      <td>https://open.spotify.com/track/3AEZUABDXNtecAO...</td>\n",
              "      <td>2017-01-01</td>\n",
              "      <td>ec</td>\n",
              "      <td>3AEZUABDXNtecAOSC1qTf</td>\n",
              "      <td>0.761</td>\n",
              "      <td>0.838</td>\n",
              "      <td>4.0</td>\n",
              "      <td>-3.073</td>\n",
              "      <td>0.0</td>\n",
              "      <td>0.0502</td>\n",
              "      <td>0.4</td>\n",
              "      <td>0.0</td>\n",
              "      <td>0.176</td>\n",
              "      <td>0.71</td>\n",
              "      <td>93.974</td>\n",
              "      <td>222560.0</td>\n",
              "      <td>4.0</td>\n",
              "    </tr>\n",
              "    <tr>\n",
              "      <th>1</th>\n",
              "      <td>1</td>\n",
              "      <td>Reggaetón Lento (Bailemos)</td>\n",
              "      <td>CNCO</td>\n",
              "      <td>16672</td>\n",
              "      <td>https://open.spotify.com/track/3AEZUABDXNtecAO...</td>\n",
              "      <td>2017-01-02</td>\n",
              "      <td>ec</td>\n",
              "      <td>3AEZUABDXNtecAOSC1qTf</td>\n",
              "      <td>0.761</td>\n",
              "      <td>0.838</td>\n",
              "      <td>4.0</td>\n",
              "      <td>-3.073</td>\n",
              "      <td>0.0</td>\n",
              "      <td>0.0502</td>\n",
              "      <td>0.4</td>\n",
              "      <td>0.0</td>\n",
              "      <td>0.176</td>\n",
              "      <td>0.71</td>\n",
              "      <td>93.974</td>\n",
              "      <td>222560.0</td>\n",
              "      <td>4.0</td>\n",
              "    </tr>\n",
              "    <tr>\n",
              "      <th>2</th>\n",
              "      <td>1</td>\n",
              "      <td>Reggaetón Lento (Bailemos)</td>\n",
              "      <td>CNCO</td>\n",
              "      <td>17258</td>\n",
              "      <td>https://open.spotify.com/track/3AEZUABDXNtecAO...</td>\n",
              "      <td>2017-01-03</td>\n",
              "      <td>ec</td>\n",
              "      <td>3AEZUABDXNtecAOSC1qTf</td>\n",
              "      <td>0.761</td>\n",
              "      <td>0.838</td>\n",
              "      <td>4.0</td>\n",
              "      <td>-3.073</td>\n",
              "      <td>0.0</td>\n",
              "      <td>0.0502</td>\n",
              "      <td>0.4</td>\n",
              "      <td>0.0</td>\n",
              "      <td>0.176</td>\n",
              "      <td>0.71</td>\n",
              "      <td>93.974</td>\n",
              "      <td>222560.0</td>\n",
              "      <td>4.0</td>\n",
              "    </tr>\n",
              "    <tr>\n",
              "      <th>3</th>\n",
              "      <td>1</td>\n",
              "      <td>Reggaetón Lento (Bailemos)</td>\n",
              "      <td>CNCO</td>\n",
              "      <td>18146</td>\n",
              "      <td>https://open.spotify.com/track/3AEZUABDXNtecAO...</td>\n",
              "      <td>2017-01-04</td>\n",
              "      <td>ec</td>\n",
              "      <td>3AEZUABDXNtecAOSC1qTf</td>\n",
              "      <td>0.761</td>\n",
              "      <td>0.838</td>\n",
              "      <td>4.0</td>\n",
              "      <td>-3.073</td>\n",
              "      <td>0.0</td>\n",
              "      <td>0.0502</td>\n",
              "      <td>0.4</td>\n",
              "      <td>0.0</td>\n",
              "      <td>0.176</td>\n",
              "      <td>0.71</td>\n",
              "      <td>93.974</td>\n",
              "      <td>222560.0</td>\n",
              "      <td>4.0</td>\n",
              "    </tr>\n",
              "    <tr>\n",
              "      <th>4</th>\n",
              "      <td>1</td>\n",
              "      <td>Reggaetón Lento (Bailemos)</td>\n",
              "      <td>CNCO</td>\n",
              "      <td>17788</td>\n",
              "      <td>https://open.spotify.com/track/3AEZUABDXNtecAO...</td>\n",
              "      <td>2017-01-05</td>\n",
              "      <td>ec</td>\n",
              "      <td>3AEZUABDXNtecAOSC1qTf</td>\n",
              "      <td>0.761</td>\n",
              "      <td>0.838</td>\n",
              "      <td>4.0</td>\n",
              "      <td>-3.073</td>\n",
              "      <td>0.0</td>\n",
              "      <td>0.0502</td>\n",
              "      <td>0.4</td>\n",
              "      <td>0.0</td>\n",
              "      <td>0.176</td>\n",
              "      <td>0.71</td>\n",
              "      <td>93.974</td>\n",
              "      <td>222560.0</td>\n",
              "      <td>4.0</td>\n",
              "    </tr>\n",
              "  </tbody>\n",
              "</table>\n",
              "</div>"
            ],
            "text/plain": [
              "   Position                  Track Name  ... duration_ms  time_signature\n",
              "0         1  Reggaetón Lento (Bailemos)  ...    222560.0             4.0\n",
              "1         1  Reggaetón Lento (Bailemos)  ...    222560.0             4.0\n",
              "2         1  Reggaetón Lento (Bailemos)  ...    222560.0             4.0\n",
              "3         1  Reggaetón Lento (Bailemos)  ...    222560.0             4.0\n",
              "4         1  Reggaetón Lento (Bailemos)  ...    222560.0             4.0\n",
              "\n",
              "[5 rows x 21 columns]"
            ]
          },
          "execution_count": 10,
          "metadata": {},
          "output_type": "execute_result"
        }
      ],
      "source": [
        "merged_df.head()"
      ]
    },
    {
      "cell_type": "code",
      "execution_count": null,
      "metadata": {
        "id": "bTkkphbdJelt"
      },
      "outputs": [],
      "source": [
        "\n",
        "\n",
        "\n",
        "aggregation_functions = {\n",
        "    'Position': 'first', \n",
        "    'Track Name':\t'first',\n",
        "    'Artist':'first',\n",
        "    'Streams': 'sum',\n",
        "    'URL': 'first',\t\n",
        "    'Date': 'first',\n",
        "    'Region': 'first',\n",
        "    'id': 'first',\n",
        "    'danceability': 'first',\n",
        "    'energy': 'first',\n",
        "    'key': 'first',\n",
        "    'loudness':'first',\n",
        "    'mode': 'first',\n",
        "    'speechiness': 'first',\n",
        "    'acousticness':'first',\n",
        "    'instrumentalness': 'first',\n",
        "    'liveness':'first',\n",
        "    'valence':'first',\n",
        "    'tempo':'first',\n",
        "    'duration_ms':'first',\n",
        "    'time_signature':'first'}\n",
        "\n",
        "    \n",
        "df = merged_df.groupby(merged_df['id']).aggregate(aggregation_functions)"
      ]
    },
    {
      "cell_type": "code",
      "execution_count": null,
      "metadata": {
        "colab": {
          "base_uri": "https://localhost:8080/",
          "height": 500
        },
        "id": "B72NKiKqMPxf",
        "outputId": "dcbe420d-f2ba-4305-c6d1-83dac1671d8a"
      },
      "outputs": [
        {
          "data": {
            "text/html": [
              "<div>\n",
              "<style scoped>\n",
              "    .dataframe tbody tr th:only-of-type {\n",
              "        vertical-align: middle;\n",
              "    }\n",
              "\n",
              "    .dataframe tbody tr th {\n",
              "        vertical-align: top;\n",
              "    }\n",
              "\n",
              "    .dataframe thead th {\n",
              "        text-align: right;\n",
              "    }\n",
              "</style>\n",
              "<table border=\"1\" class=\"dataframe\">\n",
              "  <thead>\n",
              "    <tr style=\"text-align: right;\">\n",
              "      <th></th>\n",
              "      <th>Position</th>\n",
              "      <th>Track Name</th>\n",
              "      <th>Artist</th>\n",
              "      <th>Streams</th>\n",
              "      <th>URL</th>\n",
              "      <th>Date</th>\n",
              "      <th>Region</th>\n",
              "      <th>id</th>\n",
              "      <th>danceability</th>\n",
              "      <th>energy</th>\n",
              "      <th>key</th>\n",
              "      <th>loudness</th>\n",
              "      <th>mode</th>\n",
              "      <th>speechiness</th>\n",
              "      <th>acousticness</th>\n",
              "      <th>instrumentalness</th>\n",
              "      <th>liveness</th>\n",
              "      <th>valence</th>\n",
              "      <th>tempo</th>\n",
              "      <th>duration_ms</th>\n",
              "      <th>time_signature</th>\n",
              "    </tr>\n",
              "    <tr>\n",
              "      <th>id</th>\n",
              "      <th></th>\n",
              "      <th></th>\n",
              "      <th></th>\n",
              "      <th></th>\n",
              "      <th></th>\n",
              "      <th></th>\n",
              "      <th></th>\n",
              "      <th></th>\n",
              "      <th></th>\n",
              "      <th></th>\n",
              "      <th></th>\n",
              "      <th></th>\n",
              "      <th></th>\n",
              "      <th></th>\n",
              "      <th></th>\n",
              "      <th></th>\n",
              "      <th></th>\n",
              "      <th></th>\n",
              "      <th></th>\n",
              "      <th></th>\n",
              "      <th></th>\n",
              "    </tr>\n",
              "  </thead>\n",
              "  <tbody>\n",
              "    <tr>\n",
              "      <th>00lNx0OcTJrS3MKHcB80H</th>\n",
              "      <td>176</td>\n",
              "      <td>You Don't Know Me - Radio Edit</td>\n",
              "      <td>Jax Jones</td>\n",
              "      <td>506844646</td>\n",
              "      <td>https://open.spotify.com/track/00lNx0OcTJrS3MK...</td>\n",
              "      <td>2017-03-16</td>\n",
              "      <td>ec</td>\n",
              "      <td>00lNx0OcTJrS3MKHcB80H</td>\n",
              "      <td>0.876</td>\n",
              "      <td>0.669</td>\n",
              "      <td>11.0</td>\n",
              "      <td>-6.054</td>\n",
              "      <td>0.0</td>\n",
              "      <td>0.1380</td>\n",
              "      <td>0.1630</td>\n",
              "      <td>0.000000</td>\n",
              "      <td>0.1850</td>\n",
              "      <td>0.682</td>\n",
              "      <td>124.007</td>\n",
              "      <td>213947.0</td>\n",
              "      <td>4.0</td>\n",
              "    </tr>\n",
              "    <tr>\n",
              "      <th>04DwTuZ2VBdJCCC5TROn7</th>\n",
              "      <td>39</td>\n",
              "      <td>In the Name of Love</td>\n",
              "      <td>Martin Garrix</td>\n",
              "      <td>389117176</td>\n",
              "      <td>https://open.spotify.com/track/04DwTuZ2VBdJCCC...</td>\n",
              "      <td>2017-01-01</td>\n",
              "      <td>ec</td>\n",
              "      <td>04DwTuZ2VBdJCCC5TROn7</td>\n",
              "      <td>0.490</td>\n",
              "      <td>0.485</td>\n",
              "      <td>4.0</td>\n",
              "      <td>-6.237</td>\n",
              "      <td>0.0</td>\n",
              "      <td>0.0406</td>\n",
              "      <td>0.0592</td>\n",
              "      <td>0.000000</td>\n",
              "      <td>0.3370</td>\n",
              "      <td>0.196</td>\n",
              "      <td>133.889</td>\n",
              "      <td>195840.0</td>\n",
              "      <td>4.0</td>\n",
              "    </tr>\n",
              "    <tr>\n",
              "      <th>0CcQNd8CINkwQfe1RDtGV</th>\n",
              "      <td>146</td>\n",
              "      <td>Believer</td>\n",
              "      <td>Imagine Dragons</td>\n",
              "      <td>1015847453</td>\n",
              "      <td>https://open.spotify.com/track/0CcQNd8CINkwQfe...</td>\n",
              "      <td>2017-02-03</td>\n",
              "      <td>ec</td>\n",
              "      <td>0CcQNd8CINkwQfe1RDtGV</td>\n",
              "      <td>0.779</td>\n",
              "      <td>0.787</td>\n",
              "      <td>10.0</td>\n",
              "      <td>-4.305</td>\n",
              "      <td>0.0</td>\n",
              "      <td>0.1080</td>\n",
              "      <td>0.0524</td>\n",
              "      <td>0.000000</td>\n",
              "      <td>0.1400</td>\n",
              "      <td>0.708</td>\n",
              "      <td>124.982</td>\n",
              "      <td>204347.0</td>\n",
              "      <td>4.0</td>\n",
              "    </tr>\n",
              "    <tr>\n",
              "      <th>0CokSRCu5hZgPxcZBaEzV</th>\n",
              "      <td>195</td>\n",
              "      <td>Glorious (feat. Skylar Grey)</td>\n",
              "      <td>Macklemore</td>\n",
              "      <td>564980207</td>\n",
              "      <td>https://open.spotify.com/track/3HVr6jTVwBHBa2f...</td>\n",
              "      <td>2017-08-03</td>\n",
              "      <td>ec</td>\n",
              "      <td>0CokSRCu5hZgPxcZBaEzV</td>\n",
              "      <td>0.731</td>\n",
              "      <td>0.794</td>\n",
              "      <td>0.0</td>\n",
              "      <td>-5.126</td>\n",
              "      <td>0.0</td>\n",
              "      <td>0.0522</td>\n",
              "      <td>0.0323</td>\n",
              "      <td>0.000026</td>\n",
              "      <td>0.1120</td>\n",
              "      <td>0.356</td>\n",
              "      <td>139.994</td>\n",
              "      <td>220454.0</td>\n",
              "      <td>4.0</td>\n",
              "    </tr>\n",
              "    <tr>\n",
              "      <th>0KKkJNfGyhkQ5aFogxQAP</th>\n",
              "      <td>148</td>\n",
              "      <td>That's What I Like</td>\n",
              "      <td>Bruno Mars</td>\n",
              "      <td>1136379512</td>\n",
              "      <td>https://open.spotify.com/track/0KKkJNfGyhkQ5aF...</td>\n",
              "      <td>2017-02-13</td>\n",
              "      <td>ec</td>\n",
              "      <td>0KKkJNfGyhkQ5aFogxQAP</td>\n",
              "      <td>0.853</td>\n",
              "      <td>0.560</td>\n",
              "      <td>1.0</td>\n",
              "      <td>-4.961</td>\n",
              "      <td>1.0</td>\n",
              "      <td>0.0406</td>\n",
              "      <td>0.0130</td>\n",
              "      <td>0.000000</td>\n",
              "      <td>0.0944</td>\n",
              "      <td>0.860</td>\n",
              "      <td>134.066</td>\n",
              "      <td>206693.0</td>\n",
              "      <td>4.0</td>\n",
              "    </tr>\n",
              "  </tbody>\n",
              "</table>\n",
              "</div>"
            ],
            "text/plain": [
              "                       Position  ... time_signature\n",
              "id                               ...               \n",
              "00lNx0OcTJrS3MKHcB80H       176  ...            4.0\n",
              "04DwTuZ2VBdJCCC5TROn7        39  ...            4.0\n",
              "0CcQNd8CINkwQfe1RDtGV       146  ...            4.0\n",
              "0CokSRCu5hZgPxcZBaEzV       195  ...            4.0\n",
              "0KKkJNfGyhkQ5aFogxQAP       148  ...            4.0\n",
              "\n",
              "[5 rows x 21 columns]"
            ]
          },
          "execution_count": 12,
          "metadata": {},
          "output_type": "execute_result"
        }
      ],
      "source": [
        "df.head()"
      ]
    },
    {
      "cell_type": "code",
      "execution_count": null,
      "metadata": {
        "colab": {
          "base_uri": "https://localhost:8080/"
        },
        "id": "tzT8E6h1MTw0",
        "outputId": "f9b77dc6-48a4-4d89-fc70-b5f88f272486"
      },
      "outputs": [
        {
          "data": {
            "text/plain": [
              "['Position',\n",
              " 'Track Name',\n",
              " 'Artist',\n",
              " 'Streams',\n",
              " 'URL',\n",
              " 'Date',\n",
              " 'Region',\n",
              " 'id',\n",
              " 'danceability',\n",
              " 'energy',\n",
              " 'key',\n",
              " 'loudness',\n",
              " 'mode',\n",
              " 'speechiness',\n",
              " 'acousticness',\n",
              " 'instrumentalness',\n",
              " 'liveness',\n",
              " 'valence',\n",
              " 'tempo',\n",
              " 'duration_ms',\n",
              " 'time_signature']"
            ]
          },
          "execution_count": 13,
          "metadata": {},
          "output_type": "execute_result"
        }
      ],
      "source": [
        "list(df.columns)"
      ]
    },
    {
      "cell_type": "code",
      "execution_count": null,
      "metadata": {
        "colab": {
          "base_uri": "https://localhost:8080/",
          "height": 649
        },
        "id": "S3F4xIIyMlrB",
        "outputId": "4bded63a-a4be-4813-8b8f-ba36c15795de"
      },
      "outputs": [
        {
          "data": {
            "text/html": [
              "<div>\n",
              "<style scoped>\n",
              "    .dataframe tbody tr th:only-of-type {\n",
              "        vertical-align: middle;\n",
              "    }\n",
              "\n",
              "    .dataframe tbody tr th {\n",
              "        vertical-align: top;\n",
              "    }\n",
              "\n",
              "    .dataframe thead th {\n",
              "        text-align: right;\n",
              "    }\n",
              "</style>\n",
              "<table border=\"1\" class=\"dataframe\">\n",
              "  <thead>\n",
              "    <tr style=\"text-align: right;\">\n",
              "      <th></th>\n",
              "      <th>Streams</th>\n",
              "      <th>Date</th>\n",
              "      <th>id</th>\n",
              "      <th>danceability</th>\n",
              "      <th>energy</th>\n",
              "      <th>key</th>\n",
              "      <th>loudness</th>\n",
              "      <th>mode</th>\n",
              "      <th>speechiness</th>\n",
              "      <th>acousticness</th>\n",
              "      <th>instrumentalness</th>\n",
              "      <th>liveness</th>\n",
              "      <th>valence</th>\n",
              "      <th>tempo</th>\n",
              "      <th>duration_ms</th>\n",
              "      <th>time_signature</th>\n",
              "    </tr>\n",
              "    <tr>\n",
              "      <th>id</th>\n",
              "      <th></th>\n",
              "      <th></th>\n",
              "      <th></th>\n",
              "      <th></th>\n",
              "      <th></th>\n",
              "      <th></th>\n",
              "      <th></th>\n",
              "      <th></th>\n",
              "      <th></th>\n",
              "      <th></th>\n",
              "      <th></th>\n",
              "      <th></th>\n",
              "      <th></th>\n",
              "      <th></th>\n",
              "      <th></th>\n",
              "      <th></th>\n",
              "    </tr>\n",
              "  </thead>\n",
              "  <tbody>\n",
              "    <tr>\n",
              "      <th>00lNx0OcTJrS3MKHcB80H</th>\n",
              "      <td>506844646</td>\n",
              "      <td>2017-03-16</td>\n",
              "      <td>00lNx0OcTJrS3MKHcB80H</td>\n",
              "      <td>0.876</td>\n",
              "      <td>0.669</td>\n",
              "      <td>11.0</td>\n",
              "      <td>-6.054</td>\n",
              "      <td>0.0</td>\n",
              "      <td>0.1380</td>\n",
              "      <td>0.16300</td>\n",
              "      <td>0.000000</td>\n",
              "      <td>0.1850</td>\n",
              "      <td>0.682</td>\n",
              "      <td>124.007</td>\n",
              "      <td>213947.0</td>\n",
              "      <td>4.0</td>\n",
              "    </tr>\n",
              "    <tr>\n",
              "      <th>04DwTuZ2VBdJCCC5TROn7</th>\n",
              "      <td>389117176</td>\n",
              "      <td>2017-01-01</td>\n",
              "      <td>04DwTuZ2VBdJCCC5TROn7</td>\n",
              "      <td>0.490</td>\n",
              "      <td>0.485</td>\n",
              "      <td>4.0</td>\n",
              "      <td>-6.237</td>\n",
              "      <td>0.0</td>\n",
              "      <td>0.0406</td>\n",
              "      <td>0.05920</td>\n",
              "      <td>0.000000</td>\n",
              "      <td>0.3370</td>\n",
              "      <td>0.196</td>\n",
              "      <td>133.889</td>\n",
              "      <td>195840.0</td>\n",
              "      <td>4.0</td>\n",
              "    </tr>\n",
              "    <tr>\n",
              "      <th>0CcQNd8CINkwQfe1RDtGV</th>\n",
              "      <td>1015847453</td>\n",
              "      <td>2017-02-03</td>\n",
              "      <td>0CcQNd8CINkwQfe1RDtGV</td>\n",
              "      <td>0.779</td>\n",
              "      <td>0.787</td>\n",
              "      <td>10.0</td>\n",
              "      <td>-4.305</td>\n",
              "      <td>0.0</td>\n",
              "      <td>0.1080</td>\n",
              "      <td>0.05240</td>\n",
              "      <td>0.000000</td>\n",
              "      <td>0.1400</td>\n",
              "      <td>0.708</td>\n",
              "      <td>124.982</td>\n",
              "      <td>204347.0</td>\n",
              "      <td>4.0</td>\n",
              "    </tr>\n",
              "    <tr>\n",
              "      <th>0CokSRCu5hZgPxcZBaEzV</th>\n",
              "      <td>564980207</td>\n",
              "      <td>2017-08-03</td>\n",
              "      <td>0CokSRCu5hZgPxcZBaEzV</td>\n",
              "      <td>0.731</td>\n",
              "      <td>0.794</td>\n",
              "      <td>0.0</td>\n",
              "      <td>-5.126</td>\n",
              "      <td>0.0</td>\n",
              "      <td>0.0522</td>\n",
              "      <td>0.03230</td>\n",
              "      <td>0.000026</td>\n",
              "      <td>0.1120</td>\n",
              "      <td>0.356</td>\n",
              "      <td>139.994</td>\n",
              "      <td>220454.0</td>\n",
              "      <td>4.0</td>\n",
              "    </tr>\n",
              "    <tr>\n",
              "      <th>0KKkJNfGyhkQ5aFogxQAP</th>\n",
              "      <td>1136379512</td>\n",
              "      <td>2017-02-13</td>\n",
              "      <td>0KKkJNfGyhkQ5aFogxQAP</td>\n",
              "      <td>0.853</td>\n",
              "      <td>0.560</td>\n",
              "      <td>1.0</td>\n",
              "      <td>-4.961</td>\n",
              "      <td>1.0</td>\n",
              "      <td>0.0406</td>\n",
              "      <td>0.01300</td>\n",
              "      <td>0.000000</td>\n",
              "      <td>0.0944</td>\n",
              "      <td>0.860</td>\n",
              "      <td>134.066</td>\n",
              "      <td>206693.0</td>\n",
              "      <td>4.0</td>\n",
              "    </tr>\n",
              "    <tr>\n",
              "      <th>...</th>\n",
              "      <td>...</td>\n",
              "      <td>...</td>\n",
              "      <td>...</td>\n",
              "      <td>...</td>\n",
              "      <td>...</td>\n",
              "      <td>...</td>\n",
              "      <td>...</td>\n",
              "      <td>...</td>\n",
              "      <td>...</td>\n",
              "      <td>...</td>\n",
              "      <td>...</td>\n",
              "      <td>...</td>\n",
              "      <td>...</td>\n",
              "      <td>...</td>\n",
              "      <td>...</td>\n",
              "      <td>...</td>\n",
              "    </tr>\n",
              "    <tr>\n",
              "      <th>7nZmah2llfvLDiUjm0kiy</th>\n",
              "      <td>551075212</td>\n",
              "      <td>2017-08-17</td>\n",
              "      <td>7nZmah2llfvLDiUjm0kiy</td>\n",
              "      <td>0.744</td>\n",
              "      <td>0.739</td>\n",
              "      <td>8.0</td>\n",
              "      <td>-5.350</td>\n",
              "      <td>1.0</td>\n",
              "      <td>0.0387</td>\n",
              "      <td>0.00459</td>\n",
              "      <td>0.000000</td>\n",
              "      <td>0.3060</td>\n",
              "      <td>0.649</td>\n",
              "      <td>104.990</td>\n",
              "      <td>189467.0</td>\n",
              "      <td>4.0</td>\n",
              "    </tr>\n",
              "    <tr>\n",
              "      <th>7qiZfU4dY1lWllzX7mPBI</th>\n",
              "      <td>2993988783</td>\n",
              "      <td>2017-01-06</td>\n",
              "      <td>7qiZfU4dY1lWllzX7mPBI</td>\n",
              "      <td>0.825</td>\n",
              "      <td>0.652</td>\n",
              "      <td>1.0</td>\n",
              "      <td>-3.183</td>\n",
              "      <td>0.0</td>\n",
              "      <td>0.0802</td>\n",
              "      <td>0.58100</td>\n",
              "      <td>0.000000</td>\n",
              "      <td>0.0931</td>\n",
              "      <td>0.931</td>\n",
              "      <td>95.977</td>\n",
              "      <td>233713.0</td>\n",
              "      <td>4.0</td>\n",
              "    </tr>\n",
              "    <tr>\n",
              "      <th>7tr2za8SQg2CI8EDgrdtN</th>\n",
              "      <td>785069695</td>\n",
              "      <td>2017-02-24</td>\n",
              "      <td>7tr2za8SQg2CI8EDgrdtN</td>\n",
              "      <td>0.736</td>\n",
              "      <td>0.795</td>\n",
              "      <td>1.0</td>\n",
              "      <td>-3.299</td>\n",
              "      <td>0.0</td>\n",
              "      <td>0.0545</td>\n",
              "      <td>0.49800</td>\n",
              "      <td>0.000001</td>\n",
              "      <td>0.2540</td>\n",
              "      <td>0.511</td>\n",
              "      <td>104.066</td>\n",
              "      <td>230813.0</td>\n",
              "      <td>4.0</td>\n",
              "    </tr>\n",
              "    <tr>\n",
              "      <th>7vGuf3Y35N4wmASOKLUVV</th>\n",
              "      <td>737767509</td>\n",
              "      <td>2017-08-21</td>\n",
              "      <td>7vGuf3Y35N4wmASOKLUVV</td>\n",
              "      <td>0.520</td>\n",
              "      <td>0.761</td>\n",
              "      <td>4.0</td>\n",
              "      <td>-3.093</td>\n",
              "      <td>1.0</td>\n",
              "      <td>0.0853</td>\n",
              "      <td>0.25600</td>\n",
              "      <td>0.000005</td>\n",
              "      <td>0.1700</td>\n",
              "      <td>0.286</td>\n",
              "      <td>141.971</td>\n",
              "      <td>180823.0</td>\n",
              "      <td>4.0</td>\n",
              "    </tr>\n",
              "    <tr>\n",
              "      <th>7wGoVu4Dady5GV0Sv4UIs</th>\n",
              "      <td>1260181617</td>\n",
              "      <td>2017-09-19</td>\n",
              "      <td>7wGoVu4Dady5GV0Sv4UIs</td>\n",
              "      <td>0.577</td>\n",
              "      <td>0.522</td>\n",
              "      <td>5.0</td>\n",
              "      <td>-6.594</td>\n",
              "      <td>0.0</td>\n",
              "      <td>0.0984</td>\n",
              "      <td>0.13000</td>\n",
              "      <td>0.000090</td>\n",
              "      <td>0.1420</td>\n",
              "      <td>0.119</td>\n",
              "      <td>159.772</td>\n",
              "      <td>218320.0</td>\n",
              "      <td>4.0</td>\n",
              "    </tr>\n",
              "  </tbody>\n",
              "</table>\n",
              "<p>100 rows × 16 columns</p>\n",
              "</div>"
            ],
            "text/plain": [
              "                          Streams        Date  ... duration_ms  time_signature\n",
              "id                                             ...                            \n",
              "00lNx0OcTJrS3MKHcB80H   506844646  2017-03-16  ...    213947.0             4.0\n",
              "04DwTuZ2VBdJCCC5TROn7   389117176  2017-01-01  ...    195840.0             4.0\n",
              "0CcQNd8CINkwQfe1RDtGV  1015847453  2017-02-03  ...    204347.0             4.0\n",
              "0CokSRCu5hZgPxcZBaEzV   564980207  2017-08-03  ...    220454.0             4.0\n",
              "0KKkJNfGyhkQ5aFogxQAP  1136379512  2017-02-13  ...    206693.0             4.0\n",
              "...                           ...         ...  ...         ...             ...\n",
              "7nZmah2llfvLDiUjm0kiy   551075212  2017-08-17  ...    189467.0             4.0\n",
              "7qiZfU4dY1lWllzX7mPBI  2993988783  2017-01-06  ...    233713.0             4.0\n",
              "7tr2za8SQg2CI8EDgrdtN   785069695  2017-02-24  ...    230813.0             4.0\n",
              "7vGuf3Y35N4wmASOKLUVV   737767509  2017-08-21  ...    180823.0             4.0\n",
              "7wGoVu4Dady5GV0Sv4UIs  1260181617  2017-09-19  ...    218320.0             4.0\n",
              "\n",
              "[100 rows x 16 columns]"
            ]
          },
          "execution_count": 14,
          "metadata": {},
          "output_type": "execute_result"
        }
      ],
      "source": [
        "#Dropping useless columns. As the dependent variable will be \"streams\" as a measure of the popularity of the track\n",
        "df.drop(['Position', 'Track Name', 'Artist','URL', 'Region',], axis=1)"
      ]
    },
    {
      "cell_type": "code",
      "execution_count": null,
      "metadata": {
        "colab": {
          "base_uri": "https://localhost:8080/"
        },
        "id": "yOYBVoxnVPqy",
        "outputId": "b002047f-639a-4a20-9709-ec75c3808d0d"
      },
      "outputs": [
        {
          "data": {
            "text/plain": [
              "['Position',\n",
              " 'Track Name',\n",
              " 'Artist',\n",
              " 'Streams',\n",
              " 'URL',\n",
              " 'Date',\n",
              " 'Region',\n",
              " 'id',\n",
              " 'danceability',\n",
              " 'energy',\n",
              " 'key',\n",
              " 'loudness',\n",
              " 'mode',\n",
              " 'speechiness',\n",
              " 'acousticness',\n",
              " 'instrumentalness',\n",
              " 'liveness',\n",
              " 'valence',\n",
              " 'tempo',\n",
              " 'duration_ms',\n",
              " 'time_signature']"
            ]
          },
          "execution_count": 15,
          "metadata": {},
          "output_type": "execute_result"
        }
      ],
      "source": [
        "list(df.columns)"
      ]
    },
    {
      "cell_type": "code",
      "execution_count": null,
      "metadata": {
        "colab": {
          "base_uri": "https://localhost:8080/",
          "height": 1000
        },
        "id": "-ScR60WFNBp_",
        "outputId": "ce7795b1-ecad-4ae4-8a72-455e3c6ebbf7"
      },
      "outputs": [
        {
          "data": {
            "text/plain": [
              "<seaborn.axisgrid.PairGrid at 0x7f4adbe4a690>"
            ]
          },
          "execution_count": 16,
          "metadata": {},
          "output_type": "execute_result"
        },
        {
          "data": {
            "image/png": "[encoded data removed]",
            "text/plain": [
              "<Figure size 1296x432 with 3 Axes>"
            ]
          },
          "metadata": {},
          "output_type": "display_data"
        },
        {
          "data": {
            "image/png": "[encoded data removed]",
            "text/plain": [
              "<Figure size 1728x432 with 4 Axes>"
            ]
          },
          "metadata": {},
          "output_type": "display_data"
        },
        {
          "data": {
            "image/png": "[encoded data removed]",
            "text/plain": [
              "<Figure size 1296x432 with 3 Axes>"
            ]
          },
          "metadata": {},
          "output_type": "display_data"
        },
        {
          "data": {
            "image/png": "[encoded data removed]",
            "text/plain": [
              "<Figure size 1296x432 with 3 Axes>"
            ]
          },
          "metadata": {},
          "output_type": "display_data"
        }
      ],
      "source": [
        "# Using diagrams to visualize the correlations\n",
        "import seaborn as sns\n",
        "%matplotlib inline\n",
        "sns.set(style=\"ticks\", color_codes=True)\n",
        "\n",
        "\n",
        "list_x_f = ['danceability',\n",
        " 'energy',\n",
        " 'key',\n",
        " 'loudness',\n",
        " 'mode',\n",
        " 'speechiness',\n",
        " 'acousticness',\n",
        " 'instrumentalness',\n",
        " 'liveness',\n",
        " 'valence',\n",
        " 'tempo',\n",
        " 'duration_ms',\n",
        " 'time_signature']\n",
        "\n",
        "sns.pairplot(df, x_vars=list_x_f[0:3], y_vars='Streams',  height=6, aspect=1, kind='reg')\n",
        "sns.pairplot(df, x_vars=list_x_f[3:7], y_vars='Streams',  height=6, aspect=1, kind='reg')\n",
        "sns.pairplot(df, x_vars=list_x_f[7:10], y_vars='Streams',  height=6, aspect=1, kind='reg')\n",
        "sns.pairplot(df, x_vars=list_x_f[10:], y_vars='Streams',  height=6, aspect=1, kind='reg')"
      ]
    },
    {
      "cell_type": "markdown",
      "metadata": {
        "id": "SYtCky37Wqqq"
      },
      "source": [
        "From the 2D representation of features vs streams( as a measure of the popularity of a given track) it's quiet impossible to determine which features are better than others because no strong linear correlation can be appreciated.\n",
        "\n",
        "But, it's possible to conclude that time_signature and instrumentalness are almost useless features."
      ]
    },
    {
      "cell_type": "markdown",
      "metadata": {
        "id": "Tfomvlv-Pjcj"
      },
      "source": [
        "## Regression Models\n",
        "\n",
        "Lets start by spliting the data into train and test datasets and then compare the performance obtained by using diferent regression models"
      ]
    },
    {
      "cell_type": "code",
      "execution_count": null,
      "metadata": {
        "id": "_RzFc7VTVhrr"
      },
      "outputs": [],
      "source": [
        "from sklearn.model_selection import train_test_split\n",
        "\n",
        "\n",
        "\n",
        "X = df[list_x_f]\n",
        "y = df['Streams']\n",
        "\n",
        "X_train, X_test, y_train, y_test = train_test_split(X, y, random_state=77) "
      ]
    },
    {
      "cell_type": "code",
      "execution_count": null,
      "metadata": {
        "colab": {
          "base_uri": "https://localhost:8080/",
          "height": 455
        },
        "id": "KJPrzHtqcS73",
        "outputId": "38efe966-f01b-418e-f3d3-7e2e01bf5b65"
      },
      "outputs": [
        {
          "data": {
            "text/html": [
              "<div>\n",
              "<style scoped>\n",
              "    .dataframe tbody tr th:only-of-type {\n",
              "        vertical-align: middle;\n",
              "    }\n",
              "\n",
              "    .dataframe tbody tr th {\n",
              "        vertical-align: top;\n",
              "    }\n",
              "\n",
              "    .dataframe thead th {\n",
              "        text-align: right;\n",
              "    }\n",
              "</style>\n",
              "<table border=\"1\" class=\"dataframe\">\n",
              "  <thead>\n",
              "    <tr style=\"text-align: right;\">\n",
              "      <th></th>\n",
              "      <th>danceability</th>\n",
              "      <th>energy</th>\n",
              "      <th>key</th>\n",
              "      <th>loudness</th>\n",
              "      <th>mode</th>\n",
              "      <th>speechiness</th>\n",
              "      <th>acousticness</th>\n",
              "      <th>instrumentalness</th>\n",
              "      <th>liveness</th>\n",
              "      <th>valence</th>\n",
              "      <th>tempo</th>\n",
              "      <th>duration_ms</th>\n",
              "      <th>time_signature</th>\n",
              "    </tr>\n",
              "    <tr>\n",
              "      <th>id</th>\n",
              "      <th></th>\n",
              "      <th></th>\n",
              "      <th></th>\n",
              "      <th></th>\n",
              "      <th></th>\n",
              "      <th></th>\n",
              "      <th></th>\n",
              "      <th></th>\n",
              "      <th></th>\n",
              "      <th></th>\n",
              "      <th></th>\n",
              "      <th></th>\n",
              "      <th></th>\n",
              "    </tr>\n",
              "  </thead>\n",
              "  <tbody>\n",
              "    <tr>\n",
              "      <th>00lNx0OcTJrS3MKHcB80H</th>\n",
              "      <td>0.876</td>\n",
              "      <td>0.669</td>\n",
              "      <td>11.0</td>\n",
              "      <td>-6.054</td>\n",
              "      <td>0.0</td>\n",
              "      <td>0.1380</td>\n",
              "      <td>0.16300</td>\n",
              "      <td>0.000000</td>\n",
              "      <td>0.1850</td>\n",
              "      <td>0.682</td>\n",
              "      <td>124.007</td>\n",
              "      <td>213947.0</td>\n",
              "      <td>4.0</td>\n",
              "    </tr>\n",
              "    <tr>\n",
              "      <th>04DwTuZ2VBdJCCC5TROn7</th>\n",
              "      <td>0.490</td>\n",
              "      <td>0.485</td>\n",
              "      <td>4.0</td>\n",
              "      <td>-6.237</td>\n",
              "      <td>0.0</td>\n",
              "      <td>0.0406</td>\n",
              "      <td>0.05920</td>\n",
              "      <td>0.000000</td>\n",
              "      <td>0.3370</td>\n",
              "      <td>0.196</td>\n",
              "      <td>133.889</td>\n",
              "      <td>195840.0</td>\n",
              "      <td>4.0</td>\n",
              "    </tr>\n",
              "    <tr>\n",
              "      <th>0CcQNd8CINkwQfe1RDtGV</th>\n",
              "      <td>0.779</td>\n",
              "      <td>0.787</td>\n",
              "      <td>10.0</td>\n",
              "      <td>-4.305</td>\n",
              "      <td>0.0</td>\n",
              "      <td>0.1080</td>\n",
              "      <td>0.05240</td>\n",
              "      <td>0.000000</td>\n",
              "      <td>0.1400</td>\n",
              "      <td>0.708</td>\n",
              "      <td>124.982</td>\n",
              "      <td>204347.0</td>\n",
              "      <td>4.0</td>\n",
              "    </tr>\n",
              "    <tr>\n",
              "      <th>0CokSRCu5hZgPxcZBaEzV</th>\n",
              "      <td>0.731</td>\n",
              "      <td>0.794</td>\n",
              "      <td>0.0</td>\n",
              "      <td>-5.126</td>\n",
              "      <td>0.0</td>\n",
              "      <td>0.0522</td>\n",
              "      <td>0.03230</td>\n",
              "      <td>0.000026</td>\n",
              "      <td>0.1120</td>\n",
              "      <td>0.356</td>\n",
              "      <td>139.994</td>\n",
              "      <td>220454.0</td>\n",
              "      <td>4.0</td>\n",
              "    </tr>\n",
              "    <tr>\n",
              "      <th>0KKkJNfGyhkQ5aFogxQAP</th>\n",
              "      <td>0.853</td>\n",
              "      <td>0.560</td>\n",
              "      <td>1.0</td>\n",
              "      <td>-4.961</td>\n",
              "      <td>1.0</td>\n",
              "      <td>0.0406</td>\n",
              "      <td>0.01300</td>\n",
              "      <td>0.000000</td>\n",
              "      <td>0.0944</td>\n",
              "      <td>0.860</td>\n",
              "      <td>134.066</td>\n",
              "      <td>206693.0</td>\n",
              "      <td>4.0</td>\n",
              "    </tr>\n",
              "    <tr>\n",
              "      <th>...</th>\n",
              "      <td>...</td>\n",
              "      <td>...</td>\n",
              "      <td>...</td>\n",
              "      <td>...</td>\n",
              "      <td>...</td>\n",
              "      <td>...</td>\n",
              "      <td>...</td>\n",
              "      <td>...</td>\n",
              "      <td>...</td>\n",
              "      <td>...</td>\n",
              "      <td>...</td>\n",
              "      <td>...</td>\n",
              "      <td>...</td>\n",
              "    </tr>\n",
              "    <tr>\n",
              "      <th>7nZmah2llfvLDiUjm0kiy</th>\n",
              "      <td>0.744</td>\n",
              "      <td>0.739</td>\n",
              "      <td>8.0</td>\n",
              "      <td>-5.350</td>\n",
              "      <td>1.0</td>\n",
              "      <td>0.0387</td>\n",
              "      <td>0.00459</td>\n",
              "      <td>0.000000</td>\n",
              "      <td>0.3060</td>\n",
              "      <td>0.649</td>\n",
              "      <td>104.990</td>\n",
              "      <td>189467.0</td>\n",
              "      <td>4.0</td>\n",
              "    </tr>\n",
              "    <tr>\n",
              "      <th>7qiZfU4dY1lWllzX7mPBI</th>\n",
              "      <td>0.825</td>\n",
              "      <td>0.652</td>\n",
              "      <td>1.0</td>\n",
              "      <td>-3.183</td>\n",
              "      <td>0.0</td>\n",
              "      <td>0.0802</td>\n",
              "      <td>0.58100</td>\n",
              "      <td>0.000000</td>\n",
              "      <td>0.0931</td>\n",
              "      <td>0.931</td>\n",
              "      <td>95.977</td>\n",
              "      <td>233713.0</td>\n",
              "      <td>4.0</td>\n",
              "    </tr>\n",
              "    <tr>\n",
              "      <th>7tr2za8SQg2CI8EDgrdtN</th>\n",
              "      <td>0.736</td>\n",
              "      <td>0.795</td>\n",
              "      <td>1.0</td>\n",
              "      <td>-3.299</td>\n",
              "      <td>0.0</td>\n",
              "      <td>0.0545</td>\n",
              "      <td>0.49800</td>\n",
              "      <td>0.000001</td>\n",
              "      <td>0.2540</td>\n",
              "      <td>0.511</td>\n",
              "      <td>104.066</td>\n",
              "      <td>230813.0</td>\n",
              "      <td>4.0</td>\n",
              "    </tr>\n",
              "    <tr>\n",
              "      <th>7vGuf3Y35N4wmASOKLUVV</th>\n",
              "      <td>0.520</td>\n",
              "      <td>0.761</td>\n",
              "      <td>4.0</td>\n",
              "      <td>-3.093</td>\n",
              "      <td>1.0</td>\n",
              "      <td>0.0853</td>\n",
              "      <td>0.25600</td>\n",
              "      <td>0.000005</td>\n",
              "      <td>0.1700</td>\n",
              "      <td>0.286</td>\n",
              "      <td>141.971</td>\n",
              "      <td>180823.0</td>\n",
              "      <td>4.0</td>\n",
              "    </tr>\n",
              "    <tr>\n",
              "      <th>7wGoVu4Dady5GV0Sv4UIs</th>\n",
              "      <td>0.577</td>\n",
              "      <td>0.522</td>\n",
              "      <td>5.0</td>\n",
              "      <td>-6.594</td>\n",
              "      <td>0.0</td>\n",
              "      <td>0.0984</td>\n",
              "      <td>0.13000</td>\n",
              "      <td>0.000090</td>\n",
              "      <td>0.1420</td>\n",
              "      <td>0.119</td>\n",
              "      <td>159.772</td>\n",
              "      <td>218320.0</td>\n",
              "      <td>4.0</td>\n",
              "    </tr>\n",
              "  </tbody>\n",
              "</table>\n",
              "<p>100 rows × 13 columns</p>\n",
              "</div>"
            ],
            "text/plain": [
              "                       danceability  energy  ...  duration_ms  time_signature\n",
              "id                                           ...                             \n",
              "00lNx0OcTJrS3MKHcB80H         0.876   0.669  ...     213947.0             4.0\n",
              "04DwTuZ2VBdJCCC5TROn7         0.490   0.485  ...     195840.0             4.0\n",
              "0CcQNd8CINkwQfe1RDtGV         0.779   0.787  ...     204347.0             4.0\n",
              "0CokSRCu5hZgPxcZBaEzV         0.731   0.794  ...     220454.0             4.0\n",
              "0KKkJNfGyhkQ5aFogxQAP         0.853   0.560  ...     206693.0             4.0\n",
              "...                             ...     ...  ...          ...             ...\n",
              "7nZmah2llfvLDiUjm0kiy         0.744   0.739  ...     189467.0             4.0\n",
              "7qiZfU4dY1lWllzX7mPBI         0.825   0.652  ...     233713.0             4.0\n",
              "7tr2za8SQg2CI8EDgrdtN         0.736   0.795  ...     230813.0             4.0\n",
              "7vGuf3Y35N4wmASOKLUVV         0.520   0.761  ...     180823.0             4.0\n",
              "7wGoVu4Dady5GV0Sv4UIs         0.577   0.522  ...     218320.0             4.0\n",
              "\n",
              "[100 rows x 13 columns]"
            ]
          },
          "execution_count": 18,
          "metadata": {},
          "output_type": "execute_result"
        }
      ],
      "source": [
        "X"
      ]
    },
    {
      "cell_type": "code",
      "execution_count": null,
      "metadata": {
        "colab": {
          "base_uri": "https://localhost:8080/"
        },
        "id": "eYo_GJCCcVrc",
        "outputId": "e77cf1c2-dd3f-441f-9f47-4055f772e20e"
      },
      "outputs": [
        {
          "name": "stdout",
          "output_type": "stream",
          "text": [
            "(75, 13)\n",
            "(75,)\n",
            "(25, 13)\n",
            "(25,)\n"
          ]
        }
      ],
      "source": [
        "#Check shape of dataFrames\n",
        "print(X_train.shape)\n",
        "print(y_train.shape)\n",
        "print(X_test.shape)\n",
        "print(y_test.shape)"
      ]
    },
    {
      "cell_type": "markdown",
      "metadata": {
        "id": "0JE4E2Z-P3Wf"
      },
      "source": [
        "### Basic Linear Regression model\n",
        "\n",
        "As a starting point, let's consider the very first linear regression model based on least squared minimization."
      ]
    },
    {
      "cell_type": "code",
      "execution_count": null,
      "metadata": {
        "id": "jgEF6Y7dfNlp"
      },
      "outputs": [],
      "source": [
        "# Basic Linear Regression model\n",
        "\n",
        "import numpy as np\n",
        "from sklearn.linear_model import LinearRegression\n",
        "\n",
        "linear_regressor = LinearRegression()\n",
        "fit = linear_regressor.fit(X_train, y_train)"
      ]
    },
    {
      "cell_type": "code",
      "execution_count": null,
      "metadata": {
        "colab": {
          "base_uri": "https://localhost:8080/"
        },
        "id": "0ikXl-fefvm1",
        "outputId": "8a56c52f-0161-43dd-b745-db9d273bf6f5"
      },
      "outputs": [
        {
          "data": {
            "text/plain": [
              "0.16869412724386057"
            ]
          },
          "execution_count": 21,
          "metadata": {},
          "output_type": "execute_result"
        }
      ],
      "source": [
        "# Lets check the Fit score, which by default is R^2\n",
        "fit.score(X_train, y_train)"
      ]
    },
    {
      "cell_type": "code",
      "execution_count": null,
      "metadata": {
        "colab": {
          "base_uri": "https://localhost:8080/"
        },
        "id": "GKQQrCkmgXZJ",
        "outputId": "9d2c2320-3c06-46fc-ead6-ecfa96b3b9fc"
      },
      "outputs": [
        {
          "name": "stdout",
          "output_type": "stream",
          "text": [
            "1987648788.185996\n",
            "[-1.91428566e+08 -8.07072723e+07 -9.75668886e+06 -1.88181902e+07\n",
            " -5.45078598e+07 -6.28161768e+08 -1.55438416e+08  1.93677274e+09\n",
            " -7.72580077e+08  3.73314603e+08 -1.24647766e+06  4.35476077e+02\n",
            " -2.50592234e+08]\n"
          ]
        }
      ],
      "source": [
        "# Print coefficients and intercept\n",
        "print(fit.intercept_)\n",
        "print(fit.coef_)"
      ]
    },
    {
      "cell_type": "code",
      "execution_count": null,
      "metadata": {
        "colab": {
          "base_uri": "https://localhost:8080/"
        },
        "id": "s4DGArRUghai",
        "outputId": "df69151d-9f7d-4531-9b01-fb5ec2089252"
      },
      "outputs": [
        {
          "data": {
            "text/plain": [
              "array([8.23942633e+08, 8.52391434e+08, 7.82538607e+08, 9.41955387e+08,\n",
              "       1.14086907e+09, 6.76669116e+08, 7.64216508e+08, 9.87544405e+08,\n",
              "       6.75003752e+08, 5.54522587e+08, 9.79969213e+08, 7.24033456e+08,\n",
              "       7.94081133e+08, 8.83517316e+08, 5.31844943e+08, 7.11934723e+08,\n",
              "       5.78286438e+08, 6.17799296e+08, 7.56874097e+08, 6.05545313e+08,\n",
              "       8.66440314e+08, 7.78729813e+08, 6.52070347e+08, 9.32687177e+08,\n",
              "       7.80361500e+08])"
            ]
          },
          "execution_count": 23,
          "metadata": {},
          "output_type": "execute_result"
        }
      ],
      "source": [
        "#Lets make predictions based on our model and test data\n",
        "\n",
        "y_pred = fit.predict(X_test)\n",
        "y_pred"
      ]
    },
    {
      "cell_type": "code",
      "execution_count": null,
      "metadata": {
        "colab": {
          "base_uri": "https://localhost:8080/"
        },
        "id": "ROMdcZw7h2zo",
        "outputId": "97610dec-da16-4690-bf05-ab13b0798e3f"
      },
      "outputs": [
        {
          "name": "stdout",
          "output_type": "stream",
          "text": [
            "MAE = 349437780.6575815\n"
          ]
        }
      ],
      "source": [
        "#Now we need to evaluate the performance of our prediction\n",
        "from sklearn import metrics\n",
        "print(\"MAE =\", metrics.mean_absolute_error(y_test, y_pred))"
      ]
    },
    {
      "cell_type": "code",
      "execution_count": null,
      "metadata": {
        "colab": {
          "base_uri": "https://localhost:8080/"
        },
        "id": "ZgHyOeBiiCu1",
        "outputId": "3297f137-f9f4-462c-d84e-d4700073022f"
      },
      "outputs": [
        {
          "name": "stdout",
          "output_type": "stream",
          "text": [
            "MSE = 2.8485348542617763e+17\n"
          ]
        }
      ],
      "source": [
        "print(\"MSE =\",metrics.mean_squared_error(y_test, y_pred))"
      ]
    },
    {
      "cell_type": "code",
      "execution_count": null,
      "metadata": {
        "colab": {
          "base_uri": "https://localhost:8080/"
        },
        "id": "JZNVWADqiqfB",
        "outputId": "f3076e14-a518-4d6e-9dde-21da78f41223"
      },
      "outputs": [
        {
          "name": "stdout",
          "output_type": "stream",
          "text": [
            "RMSE = 533716671.4898249\n"
          ]
        }
      ],
      "source": [
        "print(\"RMSE =\",np.sqrt(metrics.mean_squared_error(y_test, y_pred)))"
      ]
    },
    {
      "cell_type": "markdown",
      "metadata": {
        "id": "3fsJQo47mBIS"
      },
      "source": [
        "As it can be seen, the performance is really poor. So, it must be improved\n",
        "\n",
        "The first proposal is to use other methods:\n",
        "* Ridge : Ridge regression addresses some of the problems of Ordinary Least Squares by imposing a penalty on the size of the coefficients. The ridge coefficients minimize a penalized residual sum of squares.\n",
        "\n",
        "  hyperparameter  --> alpha (i.e, weight of the penalization coeficient)\n",
        "* Lasso : The Lasso is a linear model that estimates sparse coefficients. It is useful in some contexts due to its tendency to prefer solutions with fewer non-zero coefficients, effectively reducing the number of features upon which the given solution is dependent. For this reason, Lasso and its variants are fundamental to the field of compressed sensing.\n",
        "\n",
        "  hyperparameter --> alpha (same that in Ridge, what changes is the equation that determines the penalization factor. In this case, it uses absolute value, while Ridge regression uses quadratic terms\n",
        "* Decision Trees : Decision trees can also be used for regression perpous, the difference is that the independent variable are supposed to be float type, instead of, integers.\n",
        "\n",
        "  hyperparameter --> Max depth for the tree\n",
        "\n",
        "\n",
        "\n",
        "\n",
        " "
      ]
    },
    {
      "cell_type": "markdown",
      "metadata": {
        "id": "w4l_yNa-QMhb"
      },
      "source": [
        "### Ridge Regression"
      ]
    },
    {
      "cell_type": "code",
      "execution_count": null,
      "metadata": {
        "colab": {
          "base_uri": "https://localhost:8080/"
        },
        "id": "CgQmqyzcmAxn",
        "outputId": "31fdfd31-18f3-49dd-a161-6d78f1d3e9eb"
      },
      "outputs": [
        {
          "data": {
            "text/plain": [
              "0.13122498186542453"
            ]
          },
          "execution_count": 27,
          "metadata": {},
          "output_type": "execute_result"
        }
      ],
      "source": [
        "#Ridge\n",
        "from sklearn import linear_model\n",
        "reg = linear_model.Ridge(alpha=0.5)\n",
        "reg_fit = reg.fit(X_train, y_train)\n",
        "reg_fit.score(X_train, y_train)"
      ]
    },
    {
      "cell_type": "code",
      "execution_count": null,
      "metadata": {
        "colab": {
          "base_uri": "https://localhost:8080/"
        },
        "id": "8giGTBhUivy9",
        "outputId": "d299ea91-5747-47f5-a152-6d8ae67dd172"
      },
      "outputs": [
        {
          "name": "stdout",
          "output_type": "stream",
          "text": [
            "1703368803.618022\n",
            "[-1.21562419e+08 -7.26021777e+07 -1.21121941e+07 -5.18942614e+06\n",
            " -4.10999248e+07 -3.14588213e+08 -9.41740937e+07  1.41812463e+08\n",
            " -3.57310250e+08  2.46041957e+08 -1.13449409e+06  3.53488514e+02\n",
            " -1.80185223e+08]\n"
          ]
        }
      ],
      "source": [
        "print(reg_fit.intercept_)\n",
        "print(reg_fit.coef_)"
      ]
    },
    {
      "cell_type": "code",
      "execution_count": null,
      "metadata": {
        "colab": {
          "base_uri": "https://localhost:8080/"
        },
        "id": "2ABveCjJsyss",
        "outputId": "5ed22525-5eb0-4ecc-c9f0-6987e63dadb2"
      },
      "outputs": [
        {
          "name": "stdout",
          "output_type": "stream",
          "text": [
            "RMSE = 512275324.59749043\n"
          ]
        }
      ],
      "source": [
        "y_pred = reg_fit.predict(X_test)\n",
        "y_pred\n",
        "print(\"RMSE =\",np.sqrt(metrics.mean_squared_error(y_test, y_pred)))"
      ]
    },
    {
      "cell_type": "markdown",
      "metadata": {
        "id": "PeLDA_AFRban"
      },
      "source": [
        "Even with the penalization term to the sum of the residues in the regression, the model doesn't seems to improve the performance in an appreciable manner.\n",
        "\n",
        "Let's evaluate if the nature of reducing the number of \"active\" variables of LASSO regression can deal with this situation."
      ]
    },
    {
      "attachments": {},
      "cell_type": "markdown",
      "metadata": {
        "id": "KkMVR_oivMAR"
      },
      "source": [
        "#### LASSO \n",
        "As many features may not incorporate useful information to the estimation. Lasso regression is a good alternative, as it tends to estimations based on fewer non zero coeficients."
      ]
    },
    {
      "cell_type": "code",
      "execution_count": null,
      "metadata": {
        "colab": {
          "base_uri": "https://localhost:8080/"
        },
        "id": "RuiVxmDJtV2I",
        "outputId": "5bcfcb56-0ae8-4495-9e7a-5cfff4b2c284"
      },
      "outputs": [
        {
          "data": {
            "text/plain": [
              "0.1686941272438377"
            ]
          },
          "execution_count": 30,
          "metadata": {},
          "output_type": "execute_result"
        }
      ],
      "source": [
        "from sklearn import linear_model\n",
        "las = linear_model.Lasso(alpha=0.9)\n",
        "las_fit= las.fit(X_train, y_train)\n",
        "las_fit.score(X_train, y_train)"
      ]
    },
    {
      "cell_type": "code",
      "execution_count": null,
      "metadata": {
        "colab": {
          "base_uri": "https://localhost:8080/"
        },
        "id": "lzTig-BRu54M",
        "outputId": "b8631bd1-c076-4c91-fe29-9d77bd5ee8c3"
      },
      "outputs": [
        {
          "name": "stdout",
          "output_type": "stream",
          "text": [
            "1987648441.1032147\n",
            "[-1.91428442e+08 -8.07071211e+07 -9.75669053e+06 -1.88181900e+07\n",
            " -5.45078402e+07 -6.28161713e+08 -1.55438365e+08  1.93677089e+09\n",
            " -7.72579974e+08  3.73314477e+08 -1.24647748e+06  4.35475880e+02\n",
            " -2.50592177e+08]\n"
          ]
        }
      ],
      "source": [
        "print(las_fit.intercept_)\n",
        "print(las_fit.coef_)"
      ]
    },
    {
      "cell_type": "code",
      "execution_count": null,
      "metadata": {
        "colab": {
          "base_uri": "https://localhost:8080/"
        },
        "id": "Sg9s340ov2lS",
        "outputId": "297c2265-1068-49f6-c98b-ef3fafc9d132"
      },
      "outputs": [
        {
          "name": "stdout",
          "output_type": "stream",
          "text": [
            "RMSE = 533716659.6045088\n"
          ]
        }
      ],
      "source": [
        "y_pred = las_fit.predict(X_test)\n",
        "y_pred\n",
        "print(\"RMSE =\",np.sqrt(metrics.mean_squared_error(y_test, y_pred)))"
      ]
    },
    {
      "cell_type": "markdown",
      "metadata": {
        "id": "BXsXd-GkR-x_"
      },
      "source": [
        "Even if the performance didn't improve, some extra information can be extract by this model. Analysing the slope coefficients, we can see that \"duration_ms\" is weighted considerably lower than the rest of the features. So, that could be a sign that that feature is not giving us valuable information."
      ]
    },
    {
      "cell_type": "markdown",
      "metadata": {
        "id": "FiCdO955yNwb"
      },
      "source": [
        "### Decision Trees\n"
      ]
    },
    {
      "cell_type": "code",
      "execution_count": null,
      "metadata": {
        "colab": {
          "base_uri": "https://localhost:8080/"
        },
        "id": "KpCwumhQwJhj",
        "outputId": "27b0e087-3f46-4a4f-948b-0cfeeedba440"
      },
      "outputs": [
        {
          "data": {
            "text/plain": [
              "0.9977236560308742"
            ]
          },
          "execution_count": 33,
          "metadata": {},
          "output_type": "execute_result"
        }
      ],
      "source": [
        "from sklearn import tree\n",
        "clf = tree.DecisionTreeRegressor(random_state=0, max_depth=13)\n",
        "clf_fit = clf.fit(X, y)\n",
        "clf_fit.score(X_train, y_train)"
      ]
    },
    {
      "cell_type": "code",
      "execution_count": null,
      "metadata": {
        "colab": {
          "base_uri": "https://localhost:8080/"
        },
        "id": "lbOPnfosyd5v",
        "outputId": "cb41e5b7-2125-4148-ee18-c636a178d607"
      },
      "outputs": [
        {
          "name": "stdout",
          "output_type": "stream",
          "text": [
            "RMSE = 33475787.817571186\n"
          ]
        }
      ],
      "source": [
        "y_pred = clf_fit.predict(X_test)\n",
        "y_pred\n",
        "print(\"RMSE =\",np.sqrt(metrics.mean_squared_error(y_test, y_pred)))"
      ]
    },
    {
      "cell_type": "code",
      "execution_count": null,
      "metadata": {
        "colab": {
          "base_uri": "https://localhost:8080/"
        },
        "id": "nRNI2pD0yluo",
        "outputId": "ee7cb9ea-4356-447e-bc53-6c6107cba277"
      },
      "outputs": [
        {
          "name": "stdout",
          "output_type": "stream",
          "text": [
            "|--- valence <= 0.77\n",
            "|   |--- acousticness <= 0.00\n",
            "|   |   |--- liveness <= 0.10\n",
            "|   |   |   |--- value: [1311243745.00]\n",
            "|   |   |--- liveness >  0.10\n",
            "|   |   |   |--- speechiness <= 0.15\n",
            "|   |   |   |   |--- value: [1119944498.00]\n",
            "|   |   |   |--- speechiness >  0.15\n",
            "|   |   |   |   |--- value: [1171827725.00]\n",
            "|   |--- acousticness >  0.00\n",
            "|   |   |--- liveness <= 0.05\n",
            "|   |   |   |--- value: [3700988.00]\n",
            "|   |   |--- liveness >  0.05\n",
            "|   |   |   |--- duration_ms <= 244398.50\n",
            "|   |   |   |   |--- instrumentalness <= 0.01\n",
            "|   |   |   |   |   |--- speechiness <= 0.03\n",
            "|   |   |   |   |   |   |--- danceability <= 0.71\n",
            "|   |   |   |   |   |   |   |--- value: [987780468.00]\n",
            "|   |   |   |   |   |   |--- danceability >  0.71\n",
            "|   |   |   |   |   |   |   |--- value: [1042161672.00]\n",
            "|   |   |   |   |   |--- speechiness >  0.03\n",
            "|   |   |   |   |   |   |--- key <= 1.50\n",
            "|   |   |   |   |   |   |   |--- liveness <= 0.09\n",
            "|   |   |   |   |   |   |   |   |--- key <= 0.50\n",
            "|   |   |   |   |   |   |   |   |   |--- value: [1190339348.00]\n",
            "|   |   |   |   |   |   |   |   |--- key >  0.50\n",
            "|   |   |   |   |   |   |   |   |   |--- value: [940817528.00]\n",
            "|   |   |   |   |   |   |   |--- liveness >  0.09\n",
            "|   |   |   |   |   |   |   |   |--- mode <= 0.50\n",
            "|   |   |   |   |   |   |   |   |   |--- instrumentalness <= 0.00\n",
            "|   |   |   |   |   |   |   |   |   |   |--- energy <= 0.73\n",
            "|   |   |   |   |   |   |   |   |   |   |   |--- truncated branch of depth 3\n",
            "|   |   |   |   |   |   |   |   |   |   |--- energy >  0.73\n",
            "|   |   |   |   |   |   |   |   |   |   |   |--- value: [785069695.00]\n",
            "|   |   |   |   |   |   |   |   |   |--- instrumentalness >  0.00\n",
            "|   |   |   |   |   |   |   |   |   |   |--- danceability <= 0.73\n",
            "|   |   |   |   |   |   |   |   |   |   |   |--- value: [564980207.00]\n",
            "|   |   |   |   |   |   |   |   |   |   |--- danceability >  0.73\n",
            "|   |   |   |   |   |   |   |   |   |   |   |--- value: [717013813.00]\n",
            "|   |   |   |   |   |   |   |   |--- mode >  0.50\n",
            "|   |   |   |   |   |   |   |   |   |--- duration_ms <= 224012.00\n",
            "|   |   |   |   |   |   |   |   |   |   |--- speechiness <= 0.21\n",
            "|   |   |   |   |   |   |   |   |   |   |   |--- truncated branch of depth 3\n",
            "|   |   |   |   |   |   |   |   |   |   |--- speechiness >  0.21\n",
            "|   |   |   |   |   |   |   |   |   |   |   |--- value: [592998072.00]\n",
            "|   |   |   |   |   |   |   |   |   |--- duration_ms >  224012.00\n",
            "|   |   |   |   |   |   |   |   |   |   |--- speechiness <= 0.12\n",
            "|   |   |   |   |   |   |   |   |   |   |   |--- value: [556899904.00]\n",
            "|   |   |   |   |   |   |   |   |   |   |--- speechiness >  0.12\n",
            "|   |   |   |   |   |   |   |   |   |   |   |--- value: [474289174.00]\n",
            "|   |   |   |   |   |   |--- key >  1.50\n",
            "|   |   |   |   |   |   |   |--- valence <= 0.12\n",
            "|   |   |   |   |   |   |   |   |--- instrumentalness <= 0.00\n",
            "|   |   |   |   |   |   |   |   |   |--- value: [658624523.00]\n",
            "|   |   |   |   |   |   |   |   |--- instrumentalness >  0.00\n",
            "|   |   |   |   |   |   |   |   |   |--- value: [1260181617.00]\n",
            "|   |   |   |   |   |   |   |--- valence >  0.12\n",
            "|   |   |   |   |   |   |   |   |--- valence <= 0.49\n",
            "|   |   |   |   |   |   |   |   |   |--- duration_ms <= 191143.00\n",
            "|   |   |   |   |   |   |   |   |   |   |--- tempo <= 114.38\n",
            "|   |   |   |   |   |   |   |   |   |   |   |--- truncated branch of depth 2\n",
            "|   |   |   |   |   |   |   |   |   |   |--- tempo >  114.38\n",
            "|   |   |   |   |   |   |   |   |   |   |   |--- truncated branch of depth 3\n",
            "|   |   |   |   |   |   |   |   |   |--- duration_ms >  191143.00\n",
            "|   |   |   |   |   |   |   |   |   |   |--- valence <= 0.47\n",
            "|   |   |   |   |   |   |   |   |   |   |   |--- truncated branch of depth 3\n",
            "|   |   |   |   |   |   |   |   |   |   |--- valence >  0.47\n",
            "|   |   |   |   |   |   |   |   |   |   |   |--- value: [2253749.00]\n",
            "|   |   |   |   |   |   |   |   |--- valence >  0.49\n",
            "|   |   |   |   |   |   |   |   |   |--- valence <= 0.56\n",
            "|   |   |   |   |   |   |   |   |   |   |--- duration_ms <= 203751.00\n",
            "|   |   |   |   |   |   |   |   |   |   |   |--- truncated branch of depth 3\n",
            "|   |   |   |   |   |   |   |   |   |   |--- duration_ms >  203751.00\n",
            "|   |   |   |   |   |   |   |   |   |   |   |--- truncated branch of depth 3\n",
            "|   |   |   |   |   |   |   |   |   |--- valence >  0.56\n",
            "|   |   |   |   |   |   |   |   |   |   |--- energy <= 0.78\n",
            "|   |   |   |   |   |   |   |   |   |   |   |--- truncated branch of depth 3\n",
            "|   |   |   |   |   |   |   |   |   |   |--- energy >  0.78\n",
            "|   |   |   |   |   |   |   |   |   |   |   |--- truncated branch of depth 3\n",
            "|   |   |   |   |--- instrumentalness >  0.01\n",
            "|   |   |   |   |   |--- key <= 6.50\n",
            "|   |   |   |   |   |   |--- acousticness <= 0.02\n",
            "|   |   |   |   |   |   |   |--- danceability <= 0.72\n",
            "|   |   |   |   |   |   |   |   |--- value: [1067732868.00]\n",
            "|   |   |   |   |   |   |   |--- danceability >  0.72\n",
            "|   |   |   |   |   |   |   |   |--- value: [1006341171.00]\n",
            "|   |   |   |   |   |   |--- acousticness >  0.02\n",
            "|   |   |   |   |   |   |   |--- value: [1289150890.00]\n",
            "|   |   |   |   |   |--- key >  6.50\n",
            "|   |   |   |   |   |   |--- value: [626487283.00]\n",
            "|   |   |   |--- duration_ms >  244398.50\n",
            "|   |   |   |   |--- duration_ms <= 270133.50\n",
            "|   |   |   |   |   |--- instrumentalness <= 0.00\n",
            "|   |   |   |   |   |   |--- tempo <= 84.01\n",
            "|   |   |   |   |   |   |   |--- value: [674491343.00]\n",
            "|   |   |   |   |   |   |--- tempo >  84.01\n",
            "|   |   |   |   |   |   |   |--- duration_ms <= 266293.50\n",
            "|   |   |   |   |   |   |   |   |--- duration_ms <= 262277.00\n",
            "|   |   |   |   |   |   |   |   |   |--- loudness <= -5.23\n",
            "|   |   |   |   |   |   |   |   |   |   |--- tempo <= 97.51\n",
            "|   |   |   |   |   |   |   |   |   |   |   |--- value: [913967674.00]\n",
            "|   |   |   |   |   |   |   |   |   |   |--- tempo >  97.51\n",
            "|   |   |   |   |   |   |   |   |   |   |   |--- value: [933123676.00]\n",
            "|   |   |   |   |   |   |   |   |   |--- loudness >  -5.23\n",
            "|   |   |   |   |   |   |   |   |   |   |--- tempo <= 118.49\n",
            "|   |   |   |   |   |   |   |   |   |   |   |--- value: [955057855.00]\n",
            "|   |   |   |   |   |   |   |   |   |   |--- tempo >  118.49\n",
            "|   |   |   |   |   |   |   |   |   |   |   |--- value: [950641030.00]\n",
            "|   |   |   |   |   |   |   |   |--- duration_ms >  262277.00\n",
            "|   |   |   |   |   |   |   |   |   |--- value: [1008408812.00]\n",
            "|   |   |   |   |   |   |   |--- duration_ms >  266293.50\n",
            "|   |   |   |   |   |   |   |   |--- value: [850458048.00]\n",
            "|   |   |   |   |   |--- instrumentalness >  0.00\n",
            "|   |   |   |   |   |   |--- energy <= 0.54\n",
            "|   |   |   |   |   |   |   |--- value: [1115034686.00]\n",
            "|   |   |   |   |   |   |--- energy >  0.54\n",
            "|   |   |   |   |   |   |   |--- value: [1386258295.00]\n",
            "|   |   |   |   |--- duration_ms >  270133.50\n",
            "|   |   |   |   |   |--- key <= 8.50\n",
            "|   |   |   |   |   |   |--- key <= 3.00\n",
            "|   |   |   |   |   |   |   |--- value: [611080489.00]\n",
            "|   |   |   |   |   |   |--- key >  3.00\n",
            "|   |   |   |   |   |   |   |--- valence <= 0.32\n",
            "|   |   |   |   |   |   |   |   |--- value: [503894417.00]\n",
            "|   |   |   |   |   |   |   |--- valence >  0.32\n",
            "|   |   |   |   |   |   |   |   |--- value: [470572931.00]\n",
            "|   |   |   |   |   |--- key >  8.50\n",
            "|   |   |   |   |   |   |--- valence <= 0.27\n",
            "|   |   |   |   |   |   |   |--- value: [666341013.00]\n",
            "|   |   |   |   |   |   |--- valence >  0.27\n",
            "|   |   |   |   |   |   |   |--- value: [814894648.00]\n",
            "|--- valence >  0.77\n",
            "|   |--- acousticness <= 0.48\n",
            "|   |   |--- duration_ms <= 225806.50\n",
            "|   |   |   |--- valence <= 0.86\n",
            "|   |   |   |   |--- energy <= 0.72\n",
            "|   |   |   |   |   |--- speechiness <= 0.04\n",
            "|   |   |   |   |   |   |--- value: [1136379512.00]\n",
            "|   |   |   |   |   |--- speechiness >  0.04\n",
            "|   |   |   |   |   |   |--- value: [1112777364.00]\n",
            "|   |   |   |   |--- energy >  0.72\n",
            "|   |   |   |   |   |--- danceability <= 0.66\n",
            "|   |   |   |   |   |   |--- value: [895638000.00]\n",
            "|   |   |   |   |   |--- danceability >  0.66\n",
            "|   |   |   |   |   |   |--- value: [999169637.00]\n",
            "|   |   |   |--- valence >  0.86\n",
            "|   |   |   |   |--- danceability <= 0.86\n",
            "|   |   |   |   |   |--- mode <= 0.50\n",
            "|   |   |   |   |   |   |--- tempo <= 123.03\n",
            "|   |   |   |   |   |   |   |--- value: [632408350.00]\n",
            "|   |   |   |   |   |   |--- tempo >  123.03\n",
            "|   |   |   |   |   |   |   |--- value: [720516224.00]\n",
            "|   |   |   |   |   |--- mode >  0.50\n",
            "|   |   |   |   |   |   |--- speechiness <= 0.05\n",
            "|   |   |   |   |   |   |   |--- value: [572132689.00]\n",
            "|   |   |   |   |   |   |--- speechiness >  0.05\n",
            "|   |   |   |   |   |   |   |--- value: [491609136.00]\n",
            "|   |   |   |   |--- danceability >  0.86\n",
            "|   |   |   |   |   |--- valence <= 0.92\n",
            "|   |   |   |   |   |   |--- value: [827551630.00]\n",
            "|   |   |   |   |   |--- valence >  0.92\n",
            "|   |   |   |   |   |   |--- value: [968921695.00]\n",
            "|   |   |--- duration_ms >  225806.50\n",
            "|   |   |   |--- acousticness <= 0.22\n",
            "|   |   |   |   |--- liveness <= 0.14\n",
            "|   |   |   |   |   |--- value: [1460802540.00]\n",
            "|   |   |   |   |--- liveness >  0.14\n",
            "|   |   |   |   |   |--- value: [1254196301.00]\n",
            "|   |   |   |--- acousticness >  0.22\n",
            "|   |   |   |   |--- value: [1829621841.00]\n",
            "|   |--- acousticness >  0.48\n",
            "|   |   |--- value: [2993988783.00]\n",
            "\n"
          ]
        }
      ],
      "source": [
        "from sklearn.tree import export_text\n",
        "r = export_text(clf_fit, feature_names=list_x_f)\n",
        "print(r)"
      ]
    },
    {
      "cell_type": "markdown",
      "metadata": {
        "id": "6rHkUckQ4Cg1"
      },
      "source": [
        "It seems like a depth of 13 is enough. Lets analysis the performance using different tunings "
      ]
    },
    {
      "cell_type": "code",
      "execution_count": null,
      "metadata": {
        "colab": {
          "base_uri": "https://localhost:8080/"
        },
        "id": "mVXazWvgy-gC",
        "outputId": "dc51bba0-be08-4610-a3b5-acbe3f64866d"
      },
      "outputs": [
        {
          "name": "stdout",
          "output_type": "stream",
          "text": [
            "RMSE = 472306299.93539554 ; depth =  1\n",
            "RMSE = 274263994.874924 ; depth =  2\n",
            "RMSE = 241197219.2244055 ; depth =  3\n",
            "RMSE = 225076988.94178763 ; depth =  4\n",
            "RMSE = 214011060.81541407 ; depth =  5\n",
            "RMSE = 195015764.82350308 ; depth =  6\n",
            "RMSE = 174453169.41721913 ; depth =  7\n",
            "RMSE = 170860243.2303588 ; depth =  8\n",
            "RMSE = 150796059.01507166 ; depth =  9\n",
            "RMSE = 136550332.86849093 ; depth =  10\n",
            "RMSE = 71975535.43253787 ; depth =  11\n",
            "RMSE = 57426090.7171253 ; depth =  12\n",
            "RMSE = 33475787.817571186 ; depth =  13\n",
            "RMSE = 5405634.789193779 ; depth =  14\n",
            "RMSE = 5392581.2 ; depth =  15\n",
            "RMSE = 3978422.9 ; depth =  16\n",
            "RMSE = 0.0 ; depth =  17\n",
            "RMSE = 0.0 ; depth =  18\n",
            "RMSE = 0.0 ; depth =  19\n"
          ]
        }
      ],
      "source": [
        "depths = [i for i in range(1,20)]\n",
        "\n",
        "for i_d in depths:\n",
        "  clf_scan = tree.DecisionTreeRegressor(random_state=0, max_depth=i_d)\n",
        "  clf_scan = clf_scan.fit(X, y)\n",
        "  y_pred = clf_scan.predict(X_test)\n",
        "  print(\"RMSE =\",np.sqrt(metrics.mean_squared_error(y_test, y_pred)),'; depth = ',i_d)"
      ]
    },
    {
      "cell_type": "markdown",
      "metadata": {
        "id": "iZBkGSAWTT9w"
      },
      "source": [
        "Finally,  Decision Trees seems like the best model in this case, as the performance is considerably better than the previously obtained. Also, a max depth of 13 is already giving an excellent performance with the test set, so overfitting may be not happen, which is one of the main disadvantages of this method, as it tends to model the train data losing generalization capacities."
      ]
    },
    {
      "cell_type": "markdown",
      "metadata": {
        "id": "YRaWfxcGUD0a"
      },
      "source": [
        "### Reduced number of features\n",
        "\n",
        "Sometimes, using all the features available is not useful. During the previous analysis some features were pointed out to not give further information. So, Ridge and Lasso model are going to be trained without considering: \n",
        "* instrumentalness\n",
        "* time signature\n",
        "* duration_ms"
      ]
    },
    {
      "cell_type": "code",
      "execution_count": null,
      "metadata": {
        "id": "D9GozvNfU_DW"
      },
      "outputs": [],
      "source": [
        "list_x_f2 = ['danceability',\n",
        " 'energy',\n",
        " 'key',\n",
        " 'loudness',\n",
        " 'mode',\n",
        " 'speechiness',\n",
        " 'acousticness',\n",
        " 'liveness',\n",
        " 'valence',\n",
        " 'tempo']\n",
        "X = df[list_x_f2]\n",
        "y = df['Streams']\n",
        "\n",
        "X_train, X_test, y_train, y_test = train_test_split(X, y, random_state=77) "
      ]
    },
    {
      "cell_type": "code",
      "execution_count": null,
      "metadata": {
        "colab": {
          "base_uri": "https://localhost:8080/"
        },
        "id": "PDqNPv51WA02",
        "outputId": "b1c76c59-ffee-4805-a2ae-eb15992fa0d8"
      },
      "outputs": [
        {
          "name": "stdout",
          "output_type": "stream",
          "text": [
            "RMSE = 518752665.54400414\n"
          ]
        }
      ],
      "source": [
        "#Ridge\n",
        "from sklearn import linear_model\n",
        "reg = linear_model.Ridge(alpha=0.5)\n",
        "reg_fit = reg.fit(X_train, y_train)\n",
        "y_pred = reg_fit.predict(X_test)\n",
        "y_pred\n",
        "print(\"RMSE =\",np.sqrt(metrics.mean_squared_error(y_test, y_pred)))"
      ]
    },
    {
      "cell_type": "code",
      "execution_count": null,
      "metadata": {
        "colab": {
          "base_uri": "https://localhost:8080/"
        },
        "id": "Zsxio8KeWKpx",
        "outputId": "cfed39e4-5c01-4032-b0d5-46c002645766"
      },
      "outputs": [
        {
          "name": "stdout",
          "output_type": "stream",
          "text": [
            "RMSE = 538421739.3554785\n"
          ]
        }
      ],
      "source": [
        "from sklearn import linear_model\n",
        "las = linear_model.Lasso(alpha=0.9)\n",
        "las_fit= las.fit(X_train, y_train)\n",
        "y_pred = las_fit.predict(X_test)\n",
        "y_pred\n",
        "print(\"RMSE =\",np.sqrt(metrics.mean_squared_error(y_test, y_pred)))"
      ]
    },
    {
      "cell_type": "code",
      "execution_count": null,
      "metadata": {
        "colab": {
          "base_uri": "https://localhost:8080/"
        },
        "id": "kktYPUMsWQ_6",
        "outputId": "bcdb7032-d6e1-459c-ce54-1e40230f4b0a"
      },
      "outputs": [
        {
          "name": "stdout",
          "output_type": "stream",
          "text": [
            "RMSE = 472306299.93539554 ; depth =  1\n",
            "RMSE = 274263994.874924 ; depth =  2\n",
            "RMSE = 239026874.0016913 ; depth =  3\n",
            "RMSE = 248877546.26115587 ; depth =  4\n",
            "RMSE = 225880484.20649517 ; depth =  5\n",
            "RMSE = 217506914.9876837 ; depth =  6\n",
            "RMSE = 203435734.80690014 ; depth =  7\n",
            "RMSE = 201718012.93475416 ; depth =  8\n",
            "RMSE = 174221995.71049994 ; depth =  9\n",
            "RMSE = 107398106.44701998 ; depth =  10\n",
            "RMSE = 97311067.69805035 ; depth =  11\n",
            "RMSE = 63391567.345270164 ; depth =  12\n",
            "RMSE = 64495237.38920079 ; depth =  13\n",
            "RMSE = 43377322.168130994 ; depth =  14\n",
            "RMSE = 50527344.77988008 ; depth =  15\n",
            "RMSE = 30087139.18125852 ; depth =  16\n",
            "RMSE = 8837324.98124009 ; depth =  17\n",
            "RMSE = 6819389.993030947 ; depth =  18\n",
            "RMSE = 2348733.2929949844 ; depth =  19\n"
          ]
        }
      ],
      "source": [
        "from sklearn import tree\n",
        "clf = tree.DecisionTreeRegressor(random_state=0, max_depth=13)\n",
        "clf_fit = clf.fit(X, y)\n",
        "\n",
        "depths = [i for i in range(1,20)]\n",
        "\n",
        "for i_d in depths:\n",
        "  clf_scan = tree.DecisionTreeRegressor(random_state=0, max_depth=i_d)\n",
        "  clf_scan = clf_scan.fit(X, y)\n",
        "  y_pred = clf_scan.predict(X_test)\n",
        "  print(\"RMSE =\",np.sqrt(metrics.mean_squared_error(y_test, y_pred)),'; depth = ',i_d)"
      ]
    },
    {
      "cell_type": "markdown",
      "metadata": {
        "id": "Twjdl4sDWegh"
      },
      "source": [
        "No improvement was achieved neither in Ridge or Lasso models, even the performance of the Decision tree was reduced.\n",
        "\n",
        "\n",
        "_In Conclusion_: the better alternative is to use a decision tree with the first feature set considered and using a depth equal to 13 or more."
      ]
    },
    {
      "cell_type": "markdown",
      "metadata": {
        "id": "sT4KFKcoBE4y"
      },
      "source": [
        "## NN for Regression\n"
      ]
    },
    {
      "cell_type": "code",
      "execution_count": null,
      "metadata": {
        "colab": {
          "base_uri": "https://localhost:8080/"
        },
        "id": "gE9gKZwg-ww0",
        "outputId": "a6ad9a18-0040-4cad-8dfe-7818d80c9031"
      },
      "outputs": [
        {
          "name": "stdout",
          "output_type": "stream",
          "text": [
            "RMSE = 164663455.5553862\n"
          ]
        },
        {
          "name": "stderr",
          "output_type": "stream",
          "text": [
            "/usr/local/lib/python3.7/dist-packages/sklearn/neural_network/_multilayer_perceptron.py:696: ConvergenceWarning: Stochastic Optimizer: Maximum iterations (5000) reached and the optimization hasn't converged yet.\n",
            "  ConvergenceWarning,\n"
          ]
        }
      ],
      "source": [
        " from sklearn.neural_network import MLPRegressor\n",
        "\n",
        "regr = MLPRegressor(hidden_layer_sizes=10,\n",
        "                    random_state=77,\n",
        "                    max_iter=5000,\n",
        "                    #activation='identity',\n",
        "                    activation='relu',\n",
        "                    solver= 'adam',\n",
        "                    alpha=0.001,\n",
        "                    learning_rate_init=0.001).fit(X_train, y_train)\n",
        "y_pred = regr.predict(X_test)\n",
        "print(\"RMSE =\",np.sqrt(metrics.mean_squared_error(y_test, y_pred)))"
      ]
    },
    {
      "cell_type": "code",
      "execution_count": null,
      "metadata": {
        "colab": {
          "base_uri": "https://localhost:8080/"
        },
        "id": "d0xu1sgy-1Qz",
        "outputId": "76cc8775-fadd-4833-8c82-9a733dffb3d7"
      },
      "outputs": [
        {
          "data": {
            "text/plain": [
              "array([1.33707742e+08, 1.21829697e+08, 1.48155693e+08, 1.72055772e+08,\n",
              "       1.42592862e+08, 1.46335696e+08, 1.63384672e+08, 2.20028063e+08,\n",
              "       1.50086775e+08, 1.51804802e+08, 1.33171516e+08, 1.49240029e+08,\n",
              "       1.50580524e+08, 1.64424429e+08, 1.50788276e+08, 1.62730078e+08,\n",
              "       1.69818412e+08, 1.69189017e+08, 1.57743249e+08, 1.80577585e+08,\n",
              "       1.51506045e+08, 1.68163510e+08, 1.79520085e+08, 2.40759386e+08,\n",
              "       1.48004664e+08])"
            ]
          },
          "execution_count": 125,
          "metadata": {},
          "output_type": "execute_result"
        }
      ],
      "source": [
        "y_pred"
      ]
    }
  ],
  "metadata": {
    "colab": {
      "provenance": []
    },
    "kernelspec": {
      "display_name": "Python 3",
      "name": "python3"
    },
    "language_info": {
      "name": "python"
    }
  },
  "nbformat": 4,
  "nbformat_minor": 0
}
